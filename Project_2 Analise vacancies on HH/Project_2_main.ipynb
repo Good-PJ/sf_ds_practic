{
  "cells": [
    {
      "attachments": {},
      "cell_type": "markdown",
      "id": "42289889-bd57-434e-9637-d3e354756316",
      "metadata": {
        "id": "42289889-bd57-434e-9637-d3e354756316"
      },
      "source": [
        "<center> <img src = https://raw.githubusercontent.com/AndreyRysistov/DatasetsForPandas/main/hh%20label.jpg alt=\"drawing\" style=\"width:400px;\">"
      ]
    },
    {
      "attachments": {},
      "cell_type": "markdown",
      "id": "829cb75b-f14e-4ba8-9195-7ba929a7d656",
      "metadata": {
        "id": "829cb75b-f14e-4ba8-9195-7ba929a7d656",
        "tags": []
      },
      "source": [
        "# <center> Проект: Анализ вакансий из HeadHunter\n",
        "   "
      ]
    },
    {
      "cell_type": "code",
      "execution_count": 47,
      "id": "dccfde33-2452-43fb-a8a5-5c6ebc02a71d",
      "metadata": {
        "id": "dccfde33-2452-43fb-a8a5-5c6ebc02a71d"
      },
      "outputs": [],
      "source": [
        "import pandas as pd\n",
        "import psycopg2\n",
        "import plotly.express as px"
      ]
    },
    {
      "attachments": {},
      "cell_type": "markdown",
      "id": "0dc6476b-7a00-44f1-ac93-6e3baed33a29",
      "metadata": {
        "id": "0dc6476b-7a00-44f1-ac93-6e3baed33a29"
      },
      "source": [
        "# Юнит 3. Предварительный анализ данных"
      ]
    },
    {
      "attachments": {},
      "cell_type": "markdown",
      "id": "889782b6-8d1c-410e-8920-e57f27917c64",
      "metadata": {
        "id": "889782b6-8d1c-410e-8920-e57f27917c64"
      },
      "source": [
        "1. Напишите запрос, который посчитает количество вакансий в нашей базе (вакансии находятся в таблице vacancies). "
      ]
    },
    {
      "cell_type": "code",
      "execution_count": 50,
      "id": "bc39e68e-ed02-4ee2-9235-7258a2f867a8",
      "metadata": {
        "id": "bc39e68e-ed02-4ee2-9235-7258a2f867a8"
      },
      "outputs": [],
      "source": [
        "# текст запроса\n",
        "query_3_1 = f'''select \n",
        "                count(id)\n",
        "                from public.vacancies\n",
        "'''"
      ]
    },
    {
      "cell_type": "code",
      "execution_count": 51,
      "id": "7mAwtsk4hEHY",
      "metadata": {
        "id": "7mAwtsk4hEHY"
      },
      "outputs": [
        {
          "name": "stderr",
          "output_type": "stream",
          "text": [
            "C:\\Users\\79779\\AppData\\Local\\Temp\\ipykernel_12204\\3907089224.py:2: UserWarning:\n",
            "\n",
            "pandas only supports SQLAlchemy connectable (engine/connection) or database string URI or sqlite3 DBAPI2 connection. Other DBAPI2 objects are not tested. Please consider using SQLAlchemy.\n",
            "\n"
          ]
        },
        {
          "data": {
            "text/plain": [
              "49197"
            ]
          },
          "execution_count": 51,
          "metadata": {},
          "output_type": "execute_result"
        }
      ],
      "source": [
        "# результат запроса\n",
        "vacancies_count = pd.read_sql_query(query_3_1, connection)\n",
        "vacancies_count['count'][0]"
      ]
    },
    {
      "attachments": {},
      "cell_type": "markdown",
      "id": "b583485d-1f9e-494e-ada4-80ffff7c53d6",
      "metadata": {
        "id": "b583485d-1f9e-494e-ada4-80ffff7c53d6"
      },
      "source": [
        "2. Напишите запрос, который посчитает количество работодателей (таблица employers). "
      ]
    },
    {
      "cell_type": "code",
      "execution_count": 52,
      "id": "5408c52c-3407-4a63-b25b-1aafa2322d28",
      "metadata": {
        "id": "5408c52c-3407-4a63-b25b-1aafa2322d28"
      },
      "outputs": [],
      "source": [
        "# текст запроса\n",
        "query_3_2 = f'''select \n",
        "                count(id)\n",
        "                from public.employers\n",
        "'''"
      ]
    },
    {
      "cell_type": "code",
      "execution_count": 53,
      "id": "jVL4eshKhdqc",
      "metadata": {
        "id": "jVL4eshKhdqc"
      },
      "outputs": [
        {
          "name": "stderr",
          "output_type": "stream",
          "text": [
            "C:\\Users\\79779\\AppData\\Local\\Temp\\ipykernel_12204\\2251328414.py:2: UserWarning:\n",
            "\n",
            "pandas only supports SQLAlchemy connectable (engine/connection) or database string URI or sqlite3 DBAPI2 connection. Other DBAPI2 objects are not tested. Please consider using SQLAlchemy.\n",
            "\n"
          ]
        },
        {
          "data": {
            "text/plain": [
              "23501"
            ]
          },
          "execution_count": 53,
          "metadata": {},
          "output_type": "execute_result"
        }
      ],
      "source": [
        "# результат запроса\n",
        "employers_count = pd.read_sql_query(query_3_2, connection)\n",
        "employers_count['count'][0]"
      ]
    },
    {
      "attachments": {},
      "cell_type": "markdown",
      "id": "a2bfff1f-c975-4bf6-84be-2185d79dcb76",
      "metadata": {
        "id": "a2bfff1f-c975-4bf6-84be-2185d79dcb76"
      },
      "source": [
        "3. Посчитате с помощью запроса количество регионов (таблица areas)."
      ]
    },
    {
      "cell_type": "code",
      "execution_count": 54,
      "id": "1m8QJwBYhey6",
      "metadata": {
        "id": "1m8QJwBYhey6"
      },
      "outputs": [],
      "source": [
        "# текст запроса\n",
        "query_3_3 = f'''select \n",
        "                count(id)\n",
        "                from public.areas\n",
        "'''"
      ]
    },
    {
      "cell_type": "code",
      "execution_count": 55,
      "id": "EZsn9tlfhe7f",
      "metadata": {
        "id": "EZsn9tlfhe7f"
      },
      "outputs": [
        {
          "name": "stderr",
          "output_type": "stream",
          "text": [
            "C:\\Users\\79779\\AppData\\Local\\Temp\\ipykernel_12204\\2278604786.py:2: UserWarning:\n",
            "\n",
            "pandas only supports SQLAlchemy connectable (engine/connection) or database string URI or sqlite3 DBAPI2 connection. Other DBAPI2 objects are not tested. Please consider using SQLAlchemy.\n",
            "\n"
          ]
        },
        {
          "data": {
            "text/plain": [
              "1362"
            ]
          },
          "execution_count": 55,
          "metadata": {},
          "output_type": "execute_result"
        }
      ],
      "source": [
        "# результат запроса\n",
        "area_count = pd.read_sql_query(query_3_3, connection)\n",
        "area_count['count'][0]"
      ]
    },
    {
      "attachments": {},
      "cell_type": "markdown",
      "id": "41bb59f3-53cc-4a67-a5bc-bedf573955e4",
      "metadata": {
        "id": "41bb59f3-53cc-4a67-a5bc-bedf573955e4"
      },
      "source": [
        "4. Посчитате с помощью запроса количество сфер деятельности в базе (таблица industries)."
      ]
    },
    {
      "cell_type": "code",
      "execution_count": 56,
      "id": "d286cf4c-707b-4cd2-9190-7ab3587d04a1",
      "metadata": {
        "id": "d286cf4c-707b-4cd2-9190-7ab3587d04a1"
      },
      "outputs": [],
      "source": [
        "# текст запроса\n",
        "query_3_4 = f'''select \n",
        "                count(id)\n",
        "                from public.industries\n",
        "'''"
      ]
    },
    {
      "cell_type": "code",
      "execution_count": 57,
      "id": "JYAaoZ4qhfzW",
      "metadata": {
        "id": "JYAaoZ4qhfzW"
      },
      "outputs": [
        {
          "name": "stderr",
          "output_type": "stream",
          "text": [
            "C:\\Users\\79779\\AppData\\Local\\Temp\\ipykernel_12204\\250415938.py:2: UserWarning:\n",
            "\n",
            "pandas only supports SQLAlchemy connectable (engine/connection) or database string URI or sqlite3 DBAPI2 connection. Other DBAPI2 objects are not tested. Please consider using SQLAlchemy.\n",
            "\n"
          ]
        },
        {
          "data": {
            "text/plain": [
              "294"
            ]
          },
          "execution_count": 57,
          "metadata": {},
          "output_type": "execute_result"
        }
      ],
      "source": [
        "# результат запроса\n",
        "industries_count = pd.read_sql_query(query_3_4, connection)\n",
        "industries_count['count'][0]"
      ]
    },
    {
      "attachments": {},
      "cell_type": "markdown",
      "id": "9a8a2181-6914-448b-85f1-38f5f18b8a93",
      "metadata": {
        "id": "9a8a2181-6914-448b-85f1-38f5f18b8a93"
      },
      "source": [
        "***"
      ]
    },
    {
      "cell_type": "code",
      "execution_count": 58,
      "id": "be4e9bd3-a4db-4a20-82fb-6b02fc2957e0",
      "metadata": {
        "id": "be4e9bd3-a4db-4a20-82fb-6b02fc2957e0"
      },
      "outputs": [
        {
          "data": {
            "text/plain": [
              "19.1"
            ]
          },
          "metadata": {},
          "output_type": "display_data"
        },
        {
          "data": {
            "text/plain": [
              "2.1"
            ]
          },
          "metadata": {},
          "output_type": "display_data"
        },
        {
          "data": {
            "text/plain": [
              "36.1"
            ]
          },
          "metadata": {},
          "output_type": "display_data"
        },
        {
          "data": {
            "text/plain": [
              "167.3"
            ]
          },
          "metadata": {},
          "output_type": "display_data"
        }
      ],
      "source": [
        "# выводы по предварительному анализу данных\n",
        "display(round(vacancies_count['count'][0]/258000, 3)*100)\n",
        "display(round(vacancies_count['count'][0]/employers_count['count'][0], 1))\n",
        "display(round(vacancies_count['count'][0]/area_count['count'][0], 1))\n",
        "display(round(vacancies_count['count'][0]/industries_count['count'][0], 1))"
      ]
    },
    {
      "attachments": {},
      "cell_type": "markdown",
      "id": "733f7dc2",
      "metadata": {},
      "source": [
        "## Выводы\n",
        "1. Если приближенно посчитать, то по официальным данным 49197 вакансий (без учета отрасли и местности) могут удволетворить лишь 19.1% безработных при общей цифре безработицы 258000 чел.\n",
        "2. В среднем приходиться 2.1 вакансия на одного работодателя\n",
        "3. 36,1 вакансия на регион\n",
        "4. 167,3 вакнсии на каждую из сфер деятельности"
      ]
    },
    {
      "attachments": {},
      "cell_type": "markdown",
      "id": "8d62a9f3-f64e-4fe7-bdac-c4dffa16155e",
      "metadata": {
        "id": "8d62a9f3-f64e-4fe7-bdac-c4dffa16155e"
      },
      "source": [
        "# Юнит 4. Детальный анализ вакансий"
      ]
    },
    {
      "attachments": {},
      "cell_type": "markdown",
      "id": "93053d3d-b284-481a-9cf7-012d7014c0e0",
      "metadata": {
        "id": "93053d3d-b284-481a-9cf7-012d7014c0e0"
      },
      "source": [
        "1. Напишите запрос, который позволит узнать, сколько (cnt) вакансий в каждом регионе (area).\n",
        "Отсортируйте по количеству вакансий в порядке убывания."
      ]
    },
    {
      "cell_type": "code",
      "execution_count": 59,
      "id": "3f069da6-fdc9-4ae7-b514-fafe2675efd3",
      "metadata": {
        "id": "3f069da6-fdc9-4ae7-b514-fafe2675efd3"
      },
      "outputs": [],
      "source": [
        "# текст запроса\n",
        "query_4_1 = f'''select \n",
        "                a.name area,\n",
        "                count(v.id) cnt\n",
        "                from public.vacancies v\n",
        "                full join public.areas a on v.area_id = a.id\n",
        "                group by a.name\n",
        "                order by 2 desc\n",
        "                limit 5\n",
        "'''"
      ]
    },
    {
      "cell_type": "code",
      "execution_count": 60,
      "id": "P7QL86hrjhRJ",
      "metadata": {
        "id": "P7QL86hrjhRJ"
      },
      "outputs": [
        {
          "name": "stderr",
          "output_type": "stream",
          "text": [
            "C:\\Users\\79779\\AppData\\Local\\Temp\\ipykernel_12204\\403392355.py:2: UserWarning:\n",
            "\n",
            "pandas only supports SQLAlchemy connectable (engine/connection) or database string URI or sqlite3 DBAPI2 connection. Other DBAPI2 objects are not tested. Please consider using SQLAlchemy.\n",
            "\n"
          ]
        },
        {
          "data": {
            "text/html": [
              "<div>\n",
              "<style scoped>\n",
              "    .dataframe tbody tr th:only-of-type {\n",
              "        vertical-align: middle;\n",
              "    }\n",
              "\n",
              "    .dataframe tbody tr th {\n",
              "        vertical-align: top;\n",
              "    }\n",
              "\n",
              "    .dataframe thead th {\n",
              "        text-align: right;\n",
              "    }\n",
              "</style>\n",
              "<table border=\"1\" class=\"dataframe\">\n",
              "  <thead>\n",
              "    <tr style=\"text-align: right;\">\n",
              "      <th></th>\n",
              "      <th>area</th>\n",
              "      <th>cnt</th>\n",
              "    </tr>\n",
              "  </thead>\n",
              "  <tbody>\n",
              "    <tr>\n",
              "      <th>0</th>\n",
              "      <td>Москва</td>\n",
              "      <td>5333</td>\n",
              "    </tr>\n",
              "    <tr>\n",
              "      <th>1</th>\n",
              "      <td>Санкт-Петербург</td>\n",
              "      <td>2851</td>\n",
              "    </tr>\n",
              "    <tr>\n",
              "      <th>2</th>\n",
              "      <td>Минск</td>\n",
              "      <td>2112</td>\n",
              "    </tr>\n",
              "    <tr>\n",
              "      <th>3</th>\n",
              "      <td>Новосибирск</td>\n",
              "      <td>2006</td>\n",
              "    </tr>\n",
              "    <tr>\n",
              "      <th>4</th>\n",
              "      <td>Алматы</td>\n",
              "      <td>1892</td>\n",
              "    </tr>\n",
              "  </tbody>\n",
              "</table>\n",
              "</div>"
            ],
            "text/plain": [
              "              area   cnt\n",
              "0           Москва  5333\n",
              "1  Санкт-Петербург  2851\n",
              "2            Минск  2112\n",
              "3      Новосибирск  2006\n",
              "4           Алматы  1892"
            ]
          },
          "execution_count": 60,
          "metadata": {},
          "output_type": "execute_result"
        }
      ],
      "source": [
        "# результат запроса\n",
        "areas_vac_count = pd.read_sql_query(query_4_1, connection)\n",
        "areas_vac_count"
      ]
    },
    {
      "attachments": {},
      "cell_type": "markdown",
      "id": "4266f0b6-1646-492a-88b4-2f6a46502135",
      "metadata": {
        "id": "4266f0b6-1646-492a-88b4-2f6a46502135"
      },
      "source": [
        "2. Напишите запрос, чтобы определить у какого количества вакансий заполнено хотя бы одно из двух полей с зарплатой."
      ]
    },
    {
      "cell_type": "code",
      "execution_count": 61,
      "id": "0c44b350-72eb-4d65-8b54-a1fc449ba9fd",
      "metadata": {
        "id": "0c44b350-72eb-4d65-8b54-a1fc449ba9fd"
      },
      "outputs": [],
      "source": [
        "# текст запроса\n",
        "query_4_2 = f'''select \n",
        "                count(v.id)\n",
        "                from public.vacancies v\n",
        "                where (salary_from is not null) or (salary_to is not null)\n",
        "'''"
      ]
    },
    {
      "cell_type": "code",
      "execution_count": 62,
      "id": "rhvwaMDkoWTi",
      "metadata": {
        "id": "rhvwaMDkoWTi"
      },
      "outputs": [
        {
          "name": "stderr",
          "output_type": "stream",
          "text": [
            "C:\\Users\\79779\\AppData\\Local\\Temp\\ipykernel_12204\\72735399.py:2: UserWarning:\n",
            "\n",
            "pandas only supports SQLAlchemy connectable (engine/connection) or database string URI or sqlite3 DBAPI2 connection. Other DBAPI2 objects are not tested. Please consider using SQLAlchemy.\n",
            "\n"
          ]
        },
        {
          "data": {
            "text/plain": [
              "24073"
            ]
          },
          "execution_count": 62,
          "metadata": {},
          "output_type": "execute_result"
        }
      ],
      "source": [
        "# результат запроса\n",
        "salary_count = pd.read_sql_query(query_4_2, connection)\n",
        "salary_count['count'][0]"
      ]
    },
    {
      "attachments": {},
      "cell_type": "markdown",
      "id": "635c4d5d-f323-4c66-b428-50a088120aa0",
      "metadata": {
        "id": "635c4d5d-f323-4c66-b428-50a088120aa0"
      },
      "source": [
        "3. Найдите средние значения для нижней и верхней границы зарплатной вилки. Округлите значения до целого."
      ]
    },
    {
      "cell_type": "code",
      "execution_count": 63,
      "id": "603cdbe4-0ec3-4106-8eaf-c73fcdd29165",
      "metadata": {
        "id": "603cdbe4-0ec3-4106-8eaf-c73fcdd29165"
      },
      "outputs": [],
      "source": [
        "# текст запроса\n",
        "query_4_3 = f'''select \n",
        "                round(avg(v.salary_from)) avg_salary_from,\n",
        "                round(avg(v.salary_to)) avg_salary_to\n",
        "                from public.vacancies v\n",
        "'''"
      ]
    },
    {
      "cell_type": "code",
      "execution_count": 64,
      "id": "pswpAb66ovZZ",
      "metadata": {
        "id": "pswpAb66ovZZ"
      },
      "outputs": [
        {
          "name": "stderr",
          "output_type": "stream",
          "text": [
            "C:\\Users\\79779\\AppData\\Local\\Temp\\ipykernel_12204\\2774397971.py:2: UserWarning:\n",
            "\n",
            "pandas only supports SQLAlchemy connectable (engine/connection) or database string URI or sqlite3 DBAPI2 connection. Other DBAPI2 objects are not tested. Please consider using SQLAlchemy.\n",
            "\n"
          ]
        },
        {
          "data": {
            "text/html": [
              "<div>\n",
              "<style scoped>\n",
              "    .dataframe tbody tr th:only-of-type {\n",
              "        vertical-align: middle;\n",
              "    }\n",
              "\n",
              "    .dataframe tbody tr th {\n",
              "        vertical-align: top;\n",
              "    }\n",
              "\n",
              "    .dataframe thead th {\n",
              "        text-align: right;\n",
              "    }\n",
              "</style>\n",
              "<table border=\"1\" class=\"dataframe\">\n",
              "  <thead>\n",
              "    <tr style=\"text-align: right;\">\n",
              "      <th></th>\n",
              "      <th>avg_salary_from</th>\n",
              "      <th>avg_salary_to</th>\n",
              "    </tr>\n",
              "  </thead>\n",
              "  <tbody>\n",
              "    <tr>\n",
              "      <th>0</th>\n",
              "      <td>71065.0</td>\n",
              "      <td>110537.0</td>\n",
              "    </tr>\n",
              "  </tbody>\n",
              "</table>\n",
              "</div>"
            ],
            "text/plain": [
              "   avg_salary_from  avg_salary_to\n",
              "0          71065.0       110537.0"
            ]
          },
          "execution_count": 64,
          "metadata": {},
          "output_type": "execute_result"
        }
      ],
      "source": [
        "# результат запроса\n",
        "salary_fork = pd.read_sql_query(query_4_3, connection)\n",
        "salary_fork"
      ]
    },
    {
      "attachments": {},
      "cell_type": "markdown",
      "id": "f3fdaec9-5fd3-4260-9cf5-1d7406b628a5",
      "metadata": {
        "id": "f3fdaec9-5fd3-4260-9cf5-1d7406b628a5"
      },
      "source": [
        "4. Напишите запрос, который выведет количество вакансий для каждого сочетания типа рабочего графика (schedule) и типа трудоустройства (employment), используемого в вакансиях. Результат отсортируйте по убыванию количества.\n"
      ]
    },
    {
      "cell_type": "code",
      "execution_count": 65,
      "id": "1ea710ec-871b-431e-9462-c7d0fd87011b",
      "metadata": {
        "id": "1ea710ec-871b-431e-9462-c7d0fd87011b"
      },
      "outputs": [],
      "source": [
        "# текст запроса\n",
        "query_4_4 = f'''select \n",
        "                v.schedule,\n",
        "                v.employment,\n",
        "                count(v.id)\n",
        "                from public.vacancies v\n",
        "                group by 1, 2\n",
        "                order by 3 desc\n",
        "                offset 1\n",
        "                limit 1\n",
        "'''"
      ]
    },
    {
      "cell_type": "code",
      "execution_count": 66,
      "id": "lGUVqavdo4JQ",
      "metadata": {
        "id": "lGUVqavdo4JQ"
      },
      "outputs": [
        {
          "name": "stderr",
          "output_type": "stream",
          "text": [
            "C:\\Users\\79779\\AppData\\Local\\Temp\\ipykernel_12204\\1115020063.py:2: UserWarning:\n",
            "\n",
            "pandas only supports SQLAlchemy connectable (engine/connection) or database string URI or sqlite3 DBAPI2 connection. Other DBAPI2 objects are not tested. Please consider using SQLAlchemy.\n",
            "\n"
          ]
        },
        {
          "data": {
            "text/html": [
              "<div>\n",
              "<style scoped>\n",
              "    .dataframe tbody tr th:only-of-type {\n",
              "        vertical-align: middle;\n",
              "    }\n",
              "\n",
              "    .dataframe tbody tr th {\n",
              "        vertical-align: top;\n",
              "    }\n",
              "\n",
              "    .dataframe thead th {\n",
              "        text-align: right;\n",
              "    }\n",
              "</style>\n",
              "<table border=\"1\" class=\"dataframe\">\n",
              "  <thead>\n",
              "    <tr style=\"text-align: right;\">\n",
              "      <th></th>\n",
              "      <th>schedule</th>\n",
              "      <th>employment</th>\n",
              "      <th>count</th>\n",
              "    </tr>\n",
              "  </thead>\n",
              "  <tbody>\n",
              "    <tr>\n",
              "      <th>0</th>\n",
              "      <td>Удаленная работа</td>\n",
              "      <td>Полная занятость</td>\n",
              "      <td>7802</td>\n",
              "    </tr>\n",
              "  </tbody>\n",
              "</table>\n",
              "</div>"
            ],
            "text/plain": [
              "           schedule        employment  count\n",
              "0  Удаленная работа  Полная занятость   7802"
            ]
          },
          "execution_count": 66,
          "metadata": {},
          "output_type": "execute_result"
        }
      ],
      "source": [
        "# результат запроса\n",
        "top_employ = pd.read_sql_query(query_4_4, connection)\n",
        "top_employ"
      ]
    },
    {
      "attachments": {},
      "cell_type": "markdown",
      "id": "0136ffee-0ead-4a6b-b608-61d1c753a438",
      "metadata": {
        "id": "0136ffee-0ead-4a6b-b608-61d1c753a438"
      },
      "source": [
        "5. Напишите запрос, выводящий значения поля Требуемый опыт работы (experience) в порядке возрастания количества вакансий, в которых указан данный вариант опыта. "
      ]
    },
    {
      "cell_type": "code",
      "execution_count": 67,
      "id": "5b3a8e79-f7ab-4008-b767-12aea3a205ea",
      "metadata": {
        "id": "5b3a8e79-f7ab-4008-b767-12aea3a205ea"
      },
      "outputs": [],
      "source": [
        "# текст запроса\n",
        "query_4_5 = f'''select \n",
        "                v.experience \"Требуемый опыт работы\",\n",
        "                count(v.id)\n",
        "                from public.vacancies v\n",
        "                where v.experience is not null\n",
        "                group by 1\n",
        "                order by 2\n",
        "'''"
      ]
    },
    {
      "cell_type": "code",
      "execution_count": 68,
      "id": "3Is64Y-hpDpq",
      "metadata": {
        "id": "3Is64Y-hpDpq"
      },
      "outputs": [
        {
          "name": "stderr",
          "output_type": "stream",
          "text": [
            "C:\\Users\\79779\\AppData\\Local\\Temp\\ipykernel_12204\\3054466674.py:2: UserWarning:\n",
            "\n",
            "pandas only supports SQLAlchemy connectable (engine/connection) or database string URI or sqlite3 DBAPI2 connection. Other DBAPI2 objects are not tested. Please consider using SQLAlchemy.\n",
            "\n"
          ]
        },
        {
          "data": {
            "text/html": [
              "<div>\n",
              "<style scoped>\n",
              "    .dataframe tbody tr th:only-of-type {\n",
              "        vertical-align: middle;\n",
              "    }\n",
              "\n",
              "    .dataframe tbody tr th {\n",
              "        vertical-align: top;\n",
              "    }\n",
              "\n",
              "    .dataframe thead th {\n",
              "        text-align: right;\n",
              "    }\n",
              "</style>\n",
              "<table border=\"1\" class=\"dataframe\">\n",
              "  <thead>\n",
              "    <tr style=\"text-align: right;\">\n",
              "      <th></th>\n",
              "      <th>Требуемый опыт работы</th>\n",
              "      <th>count</th>\n",
              "    </tr>\n",
              "  </thead>\n",
              "  <tbody>\n",
              "    <tr>\n",
              "      <th>0</th>\n",
              "      <td>Более 6 лет</td>\n",
              "      <td>1337</td>\n",
              "    </tr>\n",
              "    <tr>\n",
              "      <th>1</th>\n",
              "      <td>Нет опыта</td>\n",
              "      <td>7197</td>\n",
              "    </tr>\n",
              "    <tr>\n",
              "      <th>2</th>\n",
              "      <td>От 3 до 6 лет</td>\n",
              "      <td>14511</td>\n",
              "    </tr>\n",
              "    <tr>\n",
              "      <th>3</th>\n",
              "      <td>От 1 года до 3 лет</td>\n",
              "      <td>26152</td>\n",
              "    </tr>\n",
              "  </tbody>\n",
              "</table>\n",
              "</div>"
            ],
            "text/plain": [
              "  Требуемый опыт работы  count\n",
              "0           Более 6 лет   1337\n",
              "1             Нет опыта   7197\n",
              "2         От 3 до 6 лет  14511\n",
              "3    От 1 года до 3 лет  26152"
            ]
          },
          "execution_count": 68,
          "metadata": {},
          "output_type": "execute_result"
        }
      ],
      "source": [
        "# результат запроса\n",
        "experience = pd.read_sql_query(query_4_5, connection)\n",
        "experience"
      ]
    },
    {
      "attachments": {},
      "cell_type": "markdown",
      "id": "oq2b7n1QpIka",
      "metadata": {
        "id": "oq2b7n1QpIka"
      },
      "source": [
        "***"
      ]
    },
    {
      "cell_type": "code",
      "execution_count": 69,
      "id": "e91f87ed-e25c-4f96-9f92-b642e8c0b4fa",
      "metadata": {
        "id": "e91f87ed-e25c-4f96-9f92-b642e8c0b4fa"
      },
      "outputs": [
        {
          "data": {
            "image/png": "[encoded data removed]"
          },
          "metadata": {},
          "output_type": "display_data"
        },
        {
          "data": {
            "text/plain": [
              "51.1"
            ]
          },
          "metadata": {},
          "output_type": "display_data"
        },
        {
          "data": {
            "text/plain": [
              "0    39472.0\n",
              "dtype: float64"
            ]
          },
          "metadata": {},
          "output_type": "display_data"
        },
        {
          "data": {
            "image/png": "[encoded data removed]"
          },
          "metadata": {},
          "output_type": "display_data"
        }
      ],
      "source": [
        "# выводы по детальному анализу вакансий\n",
        "# 1\n",
        "fig_1 = px.bar(\n",
        "    data_frame=areas_vac_count,\n",
        "    x='area',\n",
        "    y='cnt',\n",
        "    color='area',\n",
        "    text='cnt',\n",
        "    title='Top 5 Регионов по количеству вакансий'\n",
        ")\n",
        "\n",
        "fig_1.show('png')\n",
        "fig_1.write_image('img/1_Top 5 Регионов по количеству вакансий.png')\n",
        "#2 \n",
        "display(round((vacancies_count['count'][0] - salary_count['count'][0])/vacancies_count['count'][0] * 100, 1))\n",
        "\n",
        "#3 \n",
        "display(salary_fork['avg_salary_to'] - salary_fork['avg_salary_from'])\n",
        "\n",
        "#4\n",
        "\n",
        "fig_2 = px.pie(\n",
        "    data_frame=experience,\n",
        "    values='count',\n",
        "    names='Требуемый опыт работы',\n",
        "    title='Кол-во вакансий в зависимости от опыта работы'\n",
        ")\n",
        "fig_2.show('png')\n",
        "fig_2.write_image('img/2_Кол-во вакансий в зависимости от опыта работы.png')"
      ]
    },
    {
      "attachments": {},
      "cell_type": "markdown",
      "id": "b4a64bce",
      "metadata": {},
      "source": [
        "## Выводы\n",
        "---\n",
        "1. Как и ожидалось в топ 5 городов по количеству вакансий вошли самые населенные и развивающиеся города. Можно также отметить, что москва почти в два раза обгоняет Санкт-Петербург по количеству вакансий.\n",
        "---\n",
        "2. В 51.1% вавкансий работодатели не указали информация о заработной плате (ЗП). На основе этой информации можно сделать следующие выводы:\n",
        "    - половина работодателей склонны к переговорам с соискателями для получения более выгодных условий для компаний;\n",
        "    - зачастую кандидаты ориентируется на желаемую ЗП, поэтому подобные вакансии могут быть проигнорированны соискателями.\n",
        "---\n",
        "3. Разница между средними значениями минимальной и максимальной заработной платы составляет 39472. Это указывает на значительный разброс зарплат в полученных данных. Скорее всего, это связано с различиями в отраслях, регионах или уровнях должностей. Кроме того имея в распоряжении информацию о разбросе соискатели смогут быть более эффективны в переговорах относительно ЗП.\n",
        "---\n",
        "4. Самый популярные вариан сочетания графика и типа трудоустройства Удаленная работа и Полная занятость. Подобная тенденция связана во-первых со временым промежутком данных (если не ошибаюсь начало карантина COVID-19) и во-вторых увеличение интернет рынка и рынка цифровых технологий, которые способствуют развитию удаленной работы.\n",
        "---\n",
        "5. Как видно из круговой диаграммы большая часть (53,2%) вакансий предназначены для небольшого уровня опыта и вакансии со уровнем опыта выше средего (29,5%). Для соискателей без опыта рынок труда готов предложить 14,6% вакансий. И спрос на кандидатов с уровнем опыта более 6 лет составляет 2,72%.\n",
        "Можно предположить, что работодатели готовы нанимать на работу и платить ЗП работникам с опытом работы от 1 до 6 лет и с меньшим желанием готовы принимать новичков. Что касается специалистов с опытом более 6 лет, то низкое кол-во вакансий, требующих подобного опыта, может быть связано:\n",
        "    - С тенденцией работодателей сохранять работников с большим опытом в компаниях\n",
        "    - Вакансии, требующие более 6 лет опыта работы, могут быть ограничено доступны по сравнению с другими. Такие вакансии обычно связаны с руководящими или специализированными должностями, которые могут быть доступны в небольшом количестве на рынке труда.\n",
        "---"
      ]
    },
    {
      "attachments": {},
      "cell_type": "markdown",
      "id": "7ea20ab6-04a7-40a0-adec-443a0e5a42c3",
      "metadata": {
        "id": "7ea20ab6-04a7-40a0-adec-443a0e5a42c3"
      },
      "source": [
        "# Юнит 5. Анализ работодателей"
      ]
    },
    {
      "attachments": {},
      "cell_type": "markdown",
      "id": "968aed80-74ef-4ffb-b5bf-c65b84e9caea",
      "metadata": {
        "id": "968aed80-74ef-4ffb-b5bf-c65b84e9caea"
      },
      "source": [
        "1. Напишите запрос, который позволит узнать, какие работодатели находятся на первом и пятом месте по количеству вакансий."
      ]
    },
    {
      "cell_type": "code",
      "execution_count": 70,
      "id": "f2d62796-d400-4ec1-a675-88112739a50e",
      "metadata": {
        "id": "f2d62796-d400-4ec1-a675-88112739a50e"
      },
      "outputs": [],
      "source": [
        "# текст запроса\n",
        "query_5_1 = f'''select \n",
        "                e.name,\n",
        "                count(v.id)\n",
        "                from public.employers e\n",
        "                join public.vacancies v on e.id = v.employer_id\n",
        "                group by 1\n",
        "                order by 2 desc\n",
        "                limit 5\n",
        "'''\n",
        "# с использованием union all, limit и offset можно вывести только 1 и 5 место топа,\n",
        "# но это усложнит и замедлит запрос"
      ]
    },
    {
      "cell_type": "code",
      "execution_count": 71,
      "id": "64tOMkAxqkQk",
      "metadata": {
        "id": "64tOMkAxqkQk"
      },
      "outputs": [
        {
          "name": "stderr",
          "output_type": "stream",
          "text": [
            "C:\\Users\\79779\\AppData\\Local\\Temp\\ipykernel_12204\\2404766026.py:2: UserWarning:\n",
            "\n",
            "pandas only supports SQLAlchemy connectable (engine/connection) or database string URI or sqlite3 DBAPI2 connection. Other DBAPI2 objects are not tested. Please consider using SQLAlchemy.\n",
            "\n"
          ]
        },
        {
          "data": {
            "text/html": [
              "<div>\n",
              "<style scoped>\n",
              "    .dataframe tbody tr th:only-of-type {\n",
              "        vertical-align: middle;\n",
              "    }\n",
              "\n",
              "    .dataframe tbody tr th {\n",
              "        vertical-align: top;\n",
              "    }\n",
              "\n",
              "    .dataframe thead th {\n",
              "        text-align: right;\n",
              "    }\n",
              "</style>\n",
              "<table border=\"1\" class=\"dataframe\">\n",
              "  <thead>\n",
              "    <tr style=\"text-align: right;\">\n",
              "      <th></th>\n",
              "      <th>name</th>\n",
              "      <th>count</th>\n",
              "    </tr>\n",
              "  </thead>\n",
              "  <tbody>\n",
              "    <tr>\n",
              "      <th>0</th>\n",
              "      <td>Яндекс</td>\n",
              "      <td>1933</td>\n",
              "    </tr>\n",
              "    <tr>\n",
              "      <th>1</th>\n",
              "      <td>Ростелеком</td>\n",
              "      <td>491</td>\n",
              "    </tr>\n",
              "    <tr>\n",
              "      <th>2</th>\n",
              "      <td>Тинькофф</td>\n",
              "      <td>444</td>\n",
              "    </tr>\n",
              "    <tr>\n",
              "      <th>3</th>\n",
              "      <td>СБЕР</td>\n",
              "      <td>428</td>\n",
              "    </tr>\n",
              "    <tr>\n",
              "      <th>4</th>\n",
              "      <td>Газпром нефть</td>\n",
              "      <td>331</td>\n",
              "    </tr>\n",
              "  </tbody>\n",
              "</table>\n",
              "</div>"
            ],
            "text/plain": [
              "            name  count\n",
              "0         Яндекс   1933\n",
              "1     Ростелеком    491\n",
              "2       Тинькофф    444\n",
              "3           СБЕР    428\n",
              "4  Газпром нефть    331"
            ]
          },
          "execution_count": 71,
          "metadata": {},
          "output_type": "execute_result"
        }
      ],
      "source": [
        "# результат запроса\n",
        "top_employment = pd.read_sql_query(query_5_1, connection)\n",
        "top_employment\n"
      ]
    },
    {
      "attachments": {},
      "cell_type": "markdown",
      "id": "68377cfc-b378-43dc-ab7d-1195abf2c515",
      "metadata": {
        "id": "68377cfc-b378-43dc-ab7d-1195abf2c515"
      },
      "source": [
        "2. Напишите запрос, который для каждого региона выведет количество работодателей и вакансий в нём.\n",
        "Среди регионов, в которых нет вакансий, найдите тот, в котором наибольшее количество работодателей.\n"
      ]
    },
    {
      "cell_type": "code",
      "execution_count": 72,
      "id": "dd7df27a-e3e8-412e-a21a-5d389b71e891",
      "metadata": {
        "id": "dd7df27a-e3e8-412e-a21a-5d389b71e891"
      },
      "outputs": [],
      "source": [
        "# текст запроса\n",
        "query_5_2 = f'''select \n",
        "                a.name,\n",
        "                count(e.id) employer_count,\n",
        "                count(v.id) vac_count\n",
        "                from public.areas a\n",
        "                left join public.employers e on a.id = e.area\n",
        "                left join public.vacancies v on a.id = v.area_id\n",
        "                group by a.name\n",
        "                having count(v.id) = 0\n",
        "                order by 2 desc\n",
        "                limit 1\n",
        "'''"
      ]
    },
    {
      "cell_type": "code",
      "execution_count": 73,
      "id": "x1ikWbydrbf6",
      "metadata": {
        "id": "x1ikWbydrbf6"
      },
      "outputs": [
        {
          "name": "stderr",
          "output_type": "stream",
          "text": [
            "C:\\Users\\79779\\AppData\\Local\\Temp\\ipykernel_12204\\1460268736.py:2: UserWarning:\n",
            "\n",
            "pandas only supports SQLAlchemy connectable (engine/connection) or database string URI or sqlite3 DBAPI2 connection. Other DBAPI2 objects are not tested. Please consider using SQLAlchemy.\n",
            "\n"
          ]
        },
        {
          "data": {
            "text/html": [
              "<div>\n",
              "<style scoped>\n",
              "    .dataframe tbody tr th:only-of-type {\n",
              "        vertical-align: middle;\n",
              "    }\n",
              "\n",
              "    .dataframe tbody tr th {\n",
              "        vertical-align: top;\n",
              "    }\n",
              "\n",
              "    .dataframe thead th {\n",
              "        text-align: right;\n",
              "    }\n",
              "</style>\n",
              "<table border=\"1\" class=\"dataframe\">\n",
              "  <thead>\n",
              "    <tr style=\"text-align: right;\">\n",
              "      <th></th>\n",
              "      <th>name</th>\n",
              "      <th>employer_count</th>\n",
              "      <th>vac_count</th>\n",
              "    </tr>\n",
              "  </thead>\n",
              "  <tbody>\n",
              "    <tr>\n",
              "      <th>0</th>\n",
              "      <td>Россия</td>\n",
              "      <td>410</td>\n",
              "      <td>0</td>\n",
              "    </tr>\n",
              "  </tbody>\n",
              "</table>\n",
              "</div>"
            ],
            "text/plain": [
              "     name  employer_count  vac_count\n",
              "0  Россия             410          0"
            ]
          },
          "execution_count": 73,
          "metadata": {},
          "output_type": "execute_result"
        }
      ],
      "source": [
        "# результат запроса\n",
        "top_areas = pd.read_sql_query(query_5_2, connection)\n",
        "top_areas"
      ]
    },
    {
      "attachments": {},
      "cell_type": "markdown",
      "id": "f2fe0acb-ab1a-4e15-9326-2560e22d73c1",
      "metadata": {
        "id": "f2fe0acb-ab1a-4e15-9326-2560e22d73c1"
      },
      "source": [
        "3. Для каждого работодателя посчитайте количество регионов, в которых он публикует свои вакансии. Отсортируйте результат по убыванию количества.\n"
      ]
    },
    {
      "cell_type": "code",
      "execution_count": 74,
      "id": "6271f8ad-bd2e-4196-ae4a-5b39c4c1010e",
      "metadata": {
        "id": "6271f8ad-bd2e-4196-ae4a-5b39c4c1010e"
      },
      "outputs": [],
      "source": [
        "# текст запроса\n",
        "query_5_3 = f'''select \n",
        "                e.name,\n",
        "                count(distinct v.area_id)\n",
        "                from public.employers e\n",
        "                join public.vacancies v on e.id = v.employer_id\n",
        "                group by e.name\n",
        "                order by 2 desc\n",
        "                limit 5\n",
        "'''"
      ]
    },
    {
      "cell_type": "code",
      "execution_count": 75,
      "id": "1EIvX3HasH4F",
      "metadata": {
        "id": "1EIvX3HasH4F"
      },
      "outputs": [
        {
          "name": "stderr",
          "output_type": "stream",
          "text": [
            "C:\\Users\\79779\\AppData\\Local\\Temp\\ipykernel_12204\\2763555612.py:2: UserWarning:\n",
            "\n",
            "pandas only supports SQLAlchemy connectable (engine/connection) or database string URI or sqlite3 DBAPI2 connection. Other DBAPI2 objects are not tested. Please consider using SQLAlchemy.\n",
            "\n"
          ]
        },
        {
          "data": {
            "text/html": [
              "<div>\n",
              "<style scoped>\n",
              "    .dataframe tbody tr th:only-of-type {\n",
              "        vertical-align: middle;\n",
              "    }\n",
              "\n",
              "    .dataframe tbody tr th {\n",
              "        vertical-align: top;\n",
              "    }\n",
              "\n",
              "    .dataframe thead th {\n",
              "        text-align: right;\n",
              "    }\n",
              "</style>\n",
              "<table border=\"1\" class=\"dataframe\">\n",
              "  <thead>\n",
              "    <tr style=\"text-align: right;\">\n",
              "      <th></th>\n",
              "      <th>name</th>\n",
              "      <th>count</th>\n",
              "    </tr>\n",
              "  </thead>\n",
              "  <tbody>\n",
              "    <tr>\n",
              "      <th>0</th>\n",
              "      <td>Яндекс</td>\n",
              "      <td>181</td>\n",
              "    </tr>\n",
              "    <tr>\n",
              "      <th>1</th>\n",
              "      <td>Ростелеком</td>\n",
              "      <td>152</td>\n",
              "    </tr>\n",
              "    <tr>\n",
              "      <th>2</th>\n",
              "      <td>Спецремонт</td>\n",
              "      <td>116</td>\n",
              "    </tr>\n",
              "    <tr>\n",
              "      <th>3</th>\n",
              "      <td>Поляков Денис Иванович</td>\n",
              "      <td>88</td>\n",
              "    </tr>\n",
              "    <tr>\n",
              "      <th>4</th>\n",
              "      <td>ООО ЕФИН</td>\n",
              "      <td>71</td>\n",
              "    </tr>\n",
              "  </tbody>\n",
              "</table>\n",
              "</div>"
            ],
            "text/plain": [
              "                     name  count\n",
              "0                  Яндекс    181\n",
              "1              Ростелеком    152\n",
              "2              Спецремонт    116\n",
              "3  Поляков Денис Иванович     88\n",
              "4               ООО ЕФИН      71"
            ]
          },
          "execution_count": 75,
          "metadata": {},
          "output_type": "execute_result"
        }
      ],
      "source": [
        "# результат запроса\n",
        "employers_areas = pd.read_sql_query(query_5_3, connection)\n",
        "employers_areas"
      ]
    },
    {
      "attachments": {},
      "cell_type": "markdown",
      "id": "eab2206d-d95b-468b-8e5f-34381abf0ce7",
      "metadata": {
        "id": "eab2206d-d95b-468b-8e5f-34381abf0ce7"
      },
      "source": [
        "4. Напишите запрос для подсчёта количества работодателей, у которых не указана сфера деятельности. "
      ]
    },
    {
      "cell_type": "code",
      "execution_count": 76,
      "id": "80defb23-bfb1-4a18-8be6-bf36aa7165d5",
      "metadata": {
        "id": "80defb23-bfb1-4a18-8be6-bf36aa7165d5"
      },
      "outputs": [],
      "source": [
        "# текст запроса\n",
        "query_5_4 = f'''select\n",
        "                count(e.name)\n",
        "                from public.employers e\n",
        "                left join public.employers_industries ei on e.id = ei.employer_id\n",
        "                where ei.employer_id is null\n",
        "'''"
      ]
    },
    {
      "cell_type": "code",
      "execution_count": 77,
      "id": "Dp_yCx6ysQSu",
      "metadata": {
        "id": "Dp_yCx6ysQSu"
      },
      "outputs": [
        {
          "name": "stderr",
          "output_type": "stream",
          "text": [
            "C:\\Users\\79779\\AppData\\Local\\Temp\\ipykernel_12204\\2254800673.py:2: UserWarning:\n",
            "\n",
            "pandas only supports SQLAlchemy connectable (engine/connection) or database string URI or sqlite3 DBAPI2 connection. Other DBAPI2 objects are not tested. Please consider using SQLAlchemy.\n",
            "\n"
          ]
        },
        {
          "data": {
            "text/plain": [
              "8419"
            ]
          },
          "execution_count": 77,
          "metadata": {},
          "output_type": "execute_result"
        }
      ],
      "source": [
        "# результат запроса\n",
        "industries_is_null = pd.read_sql_query(query_5_4, connection)\n",
        "industries_is_null['count'][0]"
      ]
    },
    {
      "attachments": {},
      "cell_type": "markdown",
      "id": "0112af31-f6b0-4e3b-82ab-71296e752e5e",
      "metadata": {
        "id": "0112af31-f6b0-4e3b-82ab-71296e752e5e"
      },
      "source": [
        "5. Напишите запрос, чтобы узнать название компании, находящейся на третьем месте в алфавитном списке (по названию) компаний, у которых указано четыре сферы деятельности. "
      ]
    },
    {
      "cell_type": "code",
      "execution_count": 78,
      "id": "973b0cfc-a972-470a-8b4a-68744ef220c4",
      "metadata": {
        "id": "973b0cfc-a972-470a-8b4a-68744ef220c4"
      },
      "outputs": [],
      "source": [
        "# текст запроса\n",
        "query_5_5 = f'''select\n",
        "                e.name,\n",
        "                count(ei.industry_id)\n",
        "                from public.employers e\n",
        "                left join public.employers_industries ei on e.id = ei.employer_id\n",
        "                where ei.employer_id is not null\n",
        "                group by e.name\n",
        "                having count(ei.industry_id) = 4\n",
        "                order by 1\n",
        "                limit 5\n",
        "'''"
      ]
    },
    {
      "cell_type": "code",
      "execution_count": 79,
      "id": "xsPtpp8EsaED",
      "metadata": {
        "id": "xsPtpp8EsaED"
      },
      "outputs": [
        {
          "name": "stderr",
          "output_type": "stream",
          "text": [
            "C:\\Users\\79779\\AppData\\Local\\Temp\\ipykernel_12204\\2745640781.py:2: UserWarning:\n",
            "\n",
            "pandas only supports SQLAlchemy connectable (engine/connection) or database string URI or sqlite3 DBAPI2 connection. Other DBAPI2 objects are not tested. Please consider using SQLAlchemy.\n",
            "\n"
          ]
        },
        {
          "data": {
            "text/html": [
              "<div>\n",
              "<style scoped>\n",
              "    .dataframe tbody tr th:only-of-type {\n",
              "        vertical-align: middle;\n",
              "    }\n",
              "\n",
              "    .dataframe tbody tr th {\n",
              "        vertical-align: top;\n",
              "    }\n",
              "\n",
              "    .dataframe thead th {\n",
              "        text-align: right;\n",
              "    }\n",
              "</style>\n",
              "<table border=\"1\" class=\"dataframe\">\n",
              "  <thead>\n",
              "    <tr style=\"text-align: right;\">\n",
              "      <th></th>\n",
              "      <th>name</th>\n",
              "      <th>count</th>\n",
              "    </tr>\n",
              "  </thead>\n",
              "  <tbody>\n",
              "    <tr>\n",
              "      <th>0</th>\n",
              "      <td>101 Интернет</td>\n",
              "      <td>4</td>\n",
              "    </tr>\n",
              "    <tr>\n",
              "      <th>1</th>\n",
              "      <td>21vek.by</td>\n",
              "      <td>4</td>\n",
              "    </tr>\n",
              "    <tr>\n",
              "      <th>2</th>\n",
              "      <td>2ГИС</td>\n",
              "      <td>4</td>\n",
              "    </tr>\n",
              "    <tr>\n",
              "      <th>3</th>\n",
              "      <td>2К</td>\n",
              "      <td>4</td>\n",
              "    </tr>\n",
              "    <tr>\n",
              "      <th>4</th>\n",
              "      <td>4 пикселя +</td>\n",
              "      <td>4</td>\n",
              "    </tr>\n",
              "  </tbody>\n",
              "</table>\n",
              "</div>"
            ],
            "text/plain": [
              "           name  count\n",
              "0  101 Интернет      4\n",
              "1      21vek.by      4\n",
              "2          2ГИС      4\n",
              "3            2К      4\n",
              "4   4 пикселя +      4"
            ]
          },
          "execution_count": 79,
          "metadata": {},
          "output_type": "execute_result"
        }
      ],
      "source": [
        "# результат запроса\n",
        "top_four_industries = pd.read_sql_query(query_5_5, connection)\n",
        "top_four_industries"
      ]
    },
    {
      "attachments": {},
      "cell_type": "markdown",
      "id": "3bfcfdaf-755d-4d2b-8ed8-326201dc07ab",
      "metadata": {
        "id": "3bfcfdaf-755d-4d2b-8ed8-326201dc07ab"
      },
      "source": [
        "6. С помощью запроса выясните, у какого количества работодателей в качестве сферы деятельности указана Разработка программного обеспечения.\n"
      ]
    },
    {
      "cell_type": "code",
      "execution_count": 80,
      "id": "ad3f270f-2991-47eb-929b-e8f88a55b0d1",
      "metadata": {
        "id": "ad3f270f-2991-47eb-929b-e8f88a55b0d1"
      },
      "outputs": [],
      "source": [
        "# текст запроса\n",
        "query_5_6 = f'''select\n",
        "                count(ei.employer_id)\n",
        "                from public.employers_industries ei\n",
        "                join public.industries i on i.id = ei.industry_id\n",
        "                where i.name like 'Разработка программного обеспечения'\n",
        "'''"
      ]
    },
    {
      "cell_type": "code",
      "execution_count": 81,
      "id": "H72qxWM0shPR",
      "metadata": {
        "id": "H72qxWM0shPR"
      },
      "outputs": [
        {
          "name": "stderr",
          "output_type": "stream",
          "text": [
            "C:\\Users\\79779\\AppData\\Local\\Temp\\ipykernel_12204\\1902764900.py:2: UserWarning:\n",
            "\n",
            "pandas only supports SQLAlchemy connectable (engine/connection) or database string URI or sqlite3 DBAPI2 connection. Other DBAPI2 objects are not tested. Please consider using SQLAlchemy.\n",
            "\n"
          ]
        },
        {
          "data": {
            "text/plain": [
              "3553"
            ]
          },
          "execution_count": 81,
          "metadata": {},
          "output_type": "execute_result"
        }
      ],
      "source": [
        "# результат запроса\n",
        "dev_soft = pd.read_sql_query(query_5_6, connection)\n",
        "dev_soft['count'][0]"
      ]
    },
    {
      "attachments": {},
      "cell_type": "markdown",
      "id": "7b02bb86-0546-40fb-94a4-242f050a5c57",
      "metadata": {
        "id": "7b02bb86-0546-40fb-94a4-242f050a5c57"
      },
      "source": [
        "7. Для компании «Яндекс» выведите список регионов-миллионников, в которых представлены вакансии компании, вместе с количеством вакансий в этих регионах. Также добавьте строку Total с общим количеством вакансий компании. Результат отсортируйте по возрастанию количества.\n",
        "\n",
        "Список городов-милионников надо взять [отсюда](https://ru.wikipedia.org/wiki/%D0%93%D0%BE%D1%80%D0%BE%D0%B4%D0%B0-%D0%BC%D0%B8%D0%BB%D0%BB%D0%B8%D0%BE%D0%BD%D0%B5%D1%80%D1%8B_%D0%A0%D0%BE%D1%81%D1%81%D0%B8%D0%B8). \n",
        "\n",
        "Если возникнут трудности с этим задание посмотрите материалы модуля  PYTHON-17. Как получать данные из веб-источников и API. "
      ]
    },
    {
      "cell_type": "code",
      "execution_count": 82,
      "id": "ZdfrL6gIs1Pn",
      "metadata": {
        "id": "ZdfrL6gIs1Pn"
      },
      "outputs": [
        {
          "name": "stdout",
          "output_type": "stream",
          "text": [
            "('Москва', 'Санкт-Петербург', 'Новосибирск', 'Екатеринбург', 'Казань', 'Нижний Новгород', 'Красноярск', 'Челябинск', 'Самара', 'Уфа', 'Ростов-на-Дону', 'Краснодар', 'Омск', 'Воронеж', 'Пермь', 'Волгоград')\n"
          ]
        }
      ],
      "source": [
        "# код для получения списка городов-милионников\n",
        "import requests\n",
        "from bs4 import BeautifulSoup\n",
        "url = 'https://ru.wikipedia.org/wiki/%D0%93%D0%BE%D1%80%D0%BE%D0%B4%D0%B0-%D0%BC%D0%B8%D0%BB%D0%BB%D0%B8%D0%BE%D0%BD%D0%B5%D1%80%D1%8B_%D0%A0%D0%BE%D1%81%D1%81%D0%B8%D0%B8'\n",
        "\n",
        "response = requests.get(url)\n",
        "page = BeautifulSoup(response.text, 'lxml')\n",
        "cities = page.find('tbody').find_next('tbody').find_all('a')\n",
        "cities = tuple([link.text for link in cities[4:]])\n",
        "print(cities)\n"
      ]
    },
    {
      "cell_type": "code",
      "execution_count": 83,
      "id": "5a0e32a4-e68a-4365-8a39-2fe24c542c36",
      "metadata": {
        "id": "5a0e32a4-e68a-4365-8a39-2fe24c542c36"
      },
      "outputs": [],
      "source": [
        "# текст запроса\n",
        "query_5_7 = f'''select\n",
        "                a.name area_name,\n",
        "                count(v.id) vac_count\n",
        "                from public.vacancies v\n",
        "                join public.employers e on v.employer_id = e.id\n",
        "                join public.areas a on v.area_id = a.id\n",
        "                where e.name like 'Яндекс' and a.name in {cities}\n",
        "                group by a.name\n",
        "                \n",
        "                union all\n",
        "                \n",
        "                select\n",
        "                'total',\n",
        "                count(v.id)\n",
        "                from public.vacancies v\n",
        "                join public.employers e on v.employer_id = e.id\n",
        "                join public.areas a on v.area_id = a.id\n",
        "                where e.name like 'Яндекс' and a.name in {cities}\n",
        "                order by 2 \n",
        "'''"
      ]
    },
    {
      "cell_type": "code",
      "execution_count": 84,
      "id": "ttPhiO1rsvPq",
      "metadata": {
        "id": "ttPhiO1rsvPq"
      },
      "outputs": [
        {
          "name": "stderr",
          "output_type": "stream",
          "text": [
            "C:\\Users\\79779\\AppData\\Local\\Temp\\ipykernel_12204\\3328424714.py:2: UserWarning:\n",
            "\n",
            "pandas only supports SQLAlchemy connectable (engine/connection) or database string URI or sqlite3 DBAPI2 connection. Other DBAPI2 objects are not tested. Please consider using SQLAlchemy.\n",
            "\n"
          ]
        },
        {
          "data": {
            "text/html": [
              "<div>\n",
              "<style scoped>\n",
              "    .dataframe tbody tr th:only-of-type {\n",
              "        vertical-align: middle;\n",
              "    }\n",
              "\n",
              "    .dataframe tbody tr th {\n",
              "        vertical-align: top;\n",
              "    }\n",
              "\n",
              "    .dataframe thead th {\n",
              "        text-align: right;\n",
              "    }\n",
              "</style>\n",
              "<table border=\"1\" class=\"dataframe\">\n",
              "  <thead>\n",
              "    <tr style=\"text-align: right;\">\n",
              "      <th></th>\n",
              "      <th>area_name</th>\n",
              "      <th>vac_count</th>\n",
              "    </tr>\n",
              "  </thead>\n",
              "  <tbody>\n",
              "    <tr>\n",
              "      <th>0</th>\n",
              "      <td>Омск</td>\n",
              "      <td>21</td>\n",
              "    </tr>\n",
              "    <tr>\n",
              "      <th>1</th>\n",
              "      <td>Челябинск</td>\n",
              "      <td>22</td>\n",
              "    </tr>\n",
              "    <tr>\n",
              "      <th>2</th>\n",
              "      <td>Красноярск</td>\n",
              "      <td>23</td>\n",
              "    </tr>\n",
              "    <tr>\n",
              "      <th>3</th>\n",
              "      <td>Волгоград</td>\n",
              "      <td>24</td>\n",
              "    </tr>\n",
              "    <tr>\n",
              "      <th>4</th>\n",
              "      <td>Пермь</td>\n",
              "      <td>25</td>\n",
              "    </tr>\n",
              "    <tr>\n",
              "      <th>5</th>\n",
              "      <td>Казань</td>\n",
              "      <td>25</td>\n",
              "    </tr>\n",
              "    <tr>\n",
              "      <th>6</th>\n",
              "      <td>Ростов-на-Дону</td>\n",
              "      <td>25</td>\n",
              "    </tr>\n",
              "    <tr>\n",
              "      <th>7</th>\n",
              "      <td>Уфа</td>\n",
              "      <td>26</td>\n",
              "    </tr>\n",
              "    <tr>\n",
              "      <th>8</th>\n",
              "      <td>Самара</td>\n",
              "      <td>26</td>\n",
              "    </tr>\n",
              "    <tr>\n",
              "      <th>9</th>\n",
              "      <td>Краснодар</td>\n",
              "      <td>30</td>\n",
              "    </tr>\n",
              "    <tr>\n",
              "      <th>10</th>\n",
              "      <td>Воронеж</td>\n",
              "      <td>32</td>\n",
              "    </tr>\n",
              "    <tr>\n",
              "      <th>11</th>\n",
              "      <td>Новосибирск</td>\n",
              "      <td>35</td>\n",
              "    </tr>\n",
              "    <tr>\n",
              "      <th>12</th>\n",
              "      <td>Нижний Новгород</td>\n",
              "      <td>36</td>\n",
              "    </tr>\n",
              "    <tr>\n",
              "      <th>13</th>\n",
              "      <td>Екатеринбург</td>\n",
              "      <td>39</td>\n",
              "    </tr>\n",
              "    <tr>\n",
              "      <th>14</th>\n",
              "      <td>Санкт-Петербург</td>\n",
              "      <td>42</td>\n",
              "    </tr>\n",
              "    <tr>\n",
              "      <th>15</th>\n",
              "      <td>Москва</td>\n",
              "      <td>54</td>\n",
              "    </tr>\n",
              "    <tr>\n",
              "      <th>16</th>\n",
              "      <td>total</td>\n",
              "      <td>485</td>\n",
              "    </tr>\n",
              "  </tbody>\n",
              "</table>\n",
              "</div>"
            ],
            "text/plain": [
              "          area_name  vac_count\n",
              "0              Омск         21\n",
              "1         Челябинск         22\n",
              "2        Красноярск         23\n",
              "3         Волгоград         24\n",
              "4             Пермь         25\n",
              "5            Казань         25\n",
              "6    Ростов-на-Дону         25\n",
              "7               Уфа         26\n",
              "8            Самара         26\n",
              "9         Краснодар         30\n",
              "10          Воронеж         32\n",
              "11      Новосибирск         35\n",
              "12  Нижний Новгород         36\n",
              "13     Екатеринбург         39\n",
              "14  Санкт-Петербург         42\n",
              "15           Москва         54\n",
              "16            total        485"
            ]
          },
          "execution_count": 84,
          "metadata": {},
          "output_type": "execute_result"
        }
      ],
      "source": [
        "# результат запроса\n",
        "yandex_areas = pd.read_sql_query(query_5_7, connection)\n",
        "yandex_areas"
      ]
    },
    {
      "attachments": {},
      "cell_type": "markdown",
      "id": "04966e40-3bc3-4dc8-9ba2-e80580ce3abc",
      "metadata": {
        "id": "04966e40-3bc3-4dc8-9ba2-e80580ce3abc"
      },
      "source": [
        "***"
      ]
    },
    {
      "cell_type": "code",
      "execution_count": 85,
      "id": "aGGyER-yt4SR",
      "metadata": {
        "id": "aGGyER-yt4SR"
      },
      "outputs": [
        {
          "data": {
            "image/png": "[encoded data removed]"
          },
          "metadata": {},
          "output_type": "display_data"
        },
        {
          "data": {
            "text/plain": [
              "35.8"
            ]
          },
          "metadata": {},
          "output_type": "display_data"
        },
        {
          "data": {
            "text/plain": [
              "15.1"
            ]
          },
          "metadata": {},
          "output_type": "display_data"
        },
        {
          "data": {
            "text/plain": [
              "25.1"
            ]
          },
          "metadata": {},
          "output_type": "display_data"
        }
      ],
      "source": [
        "# выводы по анализу работодателей\n",
        "1# \n",
        "fig_3 = px.bar(\n",
        "    data_frame=top_employment,\n",
        "    x='name',\n",
        "    y='count',\n",
        "    color='name',\n",
        "    text='count',\n",
        "    title='Top 5 работодателей по количеству вакансий'\n",
        ")\n",
        "\n",
        "fig_3.show('png')\n",
        "fig_3.write_image('img/3_Top 5 работодателей по количеству вакансий.png')\n",
        "#2 \n",
        "empty_industry = industries_is_null['count'].iloc[0]/employers_count['count'].iloc[0] * 100\n",
        "display(round(empty_industry, 1))\n",
        "\n",
        "#3\n",
        "dev_employers = dev_soft['count'].iloc[0]/employers_count['count'].iloc[0] * 100\n",
        "display(round(dev_employers, 1))\n",
        "\n",
        "#4\n",
        "\n",
        "yandex_in_cities = yandex_areas['vac_count'].iloc[16]/top_employment['count'].iloc[0] * 100\n",
        "display(round(yandex_in_cities, 1))"
      ]
    },
    {
      "attachments": {},
      "cell_type": "markdown",
      "id": "0fda16ca",
      "metadata": {},
      "source": [
        "## Выводы\n",
        "1. В топ 5 компаний по кол-ву вакансий вошли одни из самых крупных представителей бизнеса в РФ, из сфер: IT и коммуникации, банковский сектор и ресyрсодобывающую сферу. Также можно отметить, что количество вакансий компании Яндекс значительно больше чем предложений от других работодателей в топе, что может говорить о стремительном росте Яндекса и присутствии данной компании во многих отрослях и регионах.\n",
        "---\n",
        "\n",
        "2. Некоторые работодатели указывают не конкретный регион, а страну (Россия). На основе этого можно сделать несколько выводов:\n",
        "    - Это дает некоторую гибкость в выборе и поиске кандидатов не ограничиваясь конкретным регионом.\n",
        "    - Такие работодатели могут иметь представительства в нескольких регионах РФ.\n",
        "    - Также можно предположить о некоторой конфидециальности, когда компания не хочет раскрывать регион своего присутствия по тем или иным причинам.\n",
        "*Возможно, подобный подход увеличит кол-во откликов при условии хороших предложенй от работодателей или возможности удаленной работы.*\n",
        "---\n",
        "\n",
        "3. Как и ожидалось в топ компаний по количеству регионов, в которых размещатся вакансии входят такие гиганты в сферах интернета и коммуникаций как Яндекс, Ростелеком, что связано во-первых с большим охватом и большим кол-вом партнеров и представительств в разных регионах, во-вторых все топ компании в данном рейтинге представляют те или иные услуги, что не требует крупного местного присутствия (как пример не требуют налаживание локального производства).\n",
        "---\n",
        "\n",
        "4. 35,8% работодателей не указывают сверу своей деятельности, что может затруднить оценку вакансий соискателями и тем самым снижается эффективность поиска кандидатов.\n",
        "---\n",
        "\n",
        "5. Можно предположить, что компании, указавших 4 сферы деятельности, и у которых название начинается с цифр так или иначе связаны с интернет деятьльностью, но скорее всего в задании 5.5 проводиться простое упорядочение данных и не несет какой-либо аналитической значимости.\n",
        "---\n",
        "\n",
        "6. 15,1% рынка труда занимают работодатели занимающиеся разработкой программного обеспечения. Что составляет существенную долю рынка.\n",
        "---\n",
        "\n",
        "7. Четверть (25,1%) вакансий Яндекса находяться в городах милионниках из них большая часть (96 вакансий) размещены в Москве и Санкт-Петерурге. Можно предположить, что Яндекс доминирует на рынке труда РФ и на локальных рынках городов-милионников\n",
        "---"
      ]
    },
    {
      "attachments": {},
      "cell_type": "markdown",
      "id": "b1ef156a-efcb-49ce-bb23-90763e7f35b2",
      "metadata": {
        "id": "b1ef156a-efcb-49ce-bb23-90763e7f35b2",
        "tags": []
      },
      "source": [
        "# Юнит 6. Предметный анализ"
      ]
    },
    {
      "attachments": {},
      "cell_type": "markdown",
      "id": "b9cd50a0-992d-4988-8463-2b2b1c4629b4",
      "metadata": {
        "id": "b9cd50a0-992d-4988-8463-2b2b1c4629b4"
      },
      "source": [
        "1. Сколько вакансий имеет отношение к данным?\n",
        "\n",
        "Считаем, что вакансия имеет отношение к данным, если в её названии содержатся слова 'data' или 'данн'.\n",
        "\n",
        "*Подсказка: Обратите внимание, что названия вакансий могут быть написаны в любом регистре.* \n"
      ]
    },
    {
      "cell_type": "code",
      "execution_count": 86,
      "id": "54ab0e50-c0f1-47cc-a54b-bc5c8bc363f9",
      "metadata": {
        "id": "54ab0e50-c0f1-47cc-a54b-bc5c8bc363f9"
      },
      "outputs": [],
      "source": [
        "# текст запроса\n",
        "query_6_1 = f'''select\n",
        "                count(v.id)\n",
        "                from public.vacancies v\n",
        "                where v.name ilike '%data%' or v.name ilike '%данн%'\n",
        "'''\n"
      ]
    },
    {
      "cell_type": "code",
      "execution_count": 87,
      "id": "9F1meAqsuUjd",
      "metadata": {
        "id": "9F1meAqsuUjd"
      },
      "outputs": [
        {
          "name": "stderr",
          "output_type": "stream",
          "text": [
            "C:\\Users\\79779\\AppData\\Local\\Temp\\ipykernel_12204\\2168712258.py:2: UserWarning:\n",
            "\n",
            "pandas only supports SQLAlchemy connectable (engine/connection) or database string URI or sqlite3 DBAPI2 connection. Other DBAPI2 objects are not tested. Please consider using SQLAlchemy.\n",
            "\n"
          ]
        },
        {
          "data": {
            "text/plain": [
              "1771"
            ]
          },
          "execution_count": 87,
          "metadata": {},
          "output_type": "execute_result"
        }
      ],
      "source": [
        "# результат запроса\n",
        "data_count = pd.read_sql_query(query_6_1, connection)\n",
        "data_count['count'][0]"
      ]
    },
    {
      "attachments": {},
      "cell_type": "markdown",
      "id": "4dea20cb-a36b-474a-a0b9-e08e8e3857a5",
      "metadata": {
        "id": "4dea20cb-a36b-474a-a0b9-e08e8e3857a5"
      },
      "source": [
        "2. Сколько есть подходящих вакансий для начинающего дата-сайентиста? \n",
        "Будем считать вакансиями для дата-сайентистов такие, в названии которых есть хотя бы одно из следующих сочетаний:\n",
        "* 'data scientist'\n",
        "* 'data science'\n",
        "* 'исследователь данных'\n",
        "* 'ML' (здесь не нужно брать вакансии по HTML)\n",
        "* 'machine learning'\n",
        "* 'машинн%обучен%'\n",
        "\n",
        "** В следующих заданиях мы продолжим работать с вакансиями по этому условию.*\n",
        "\n",
        "Считаем вакансиями для специалистов уровня Junior следующие:\n",
        "* в названии есть слово 'junior' *или*\n",
        "* требуемый опыт — Нет опыта *или*\n",
        "* тип трудоустройства — Стажировка.\n",
        " "
      ]
    },
    {
      "cell_type": "code",
      "execution_count": 88,
      "id": "9c61b3c0-bb66-46c9-ae1e-81d3f5752b4a",
      "metadata": {
        "id": "9c61b3c0-bb66-46c9-ae1e-81d3f5752b4a"
      },
      "outputs": [],
      "source": [
        "# текст запроса\n",
        "query_6_2 = f'''select\n",
        "                count(v.id)\n",
        "                from public.vacancies v\n",
        "                where (v.name ilike '%data scientist%'\n",
        "                or v.name ilike '%data science%'\n",
        "                or v.name ilike '%исследователь данных%'\n",
        "                or (v.name like '%ML%' \n",
        "                and v.name not ilike '%HTML%')\n",
        "                or v.name ilike '%machine learning%'\n",
        "                or v.name ilike '%машинн%обучен%')\n",
        "                and (v.name ilike '%junior%'\n",
        "                or v.experience ilike '%нет опыта%'\n",
        "                or v.employment ilike '%стажировка%')\n",
        "'''"
      ]
    },
    {
      "cell_type": "code",
      "execution_count": 89,
      "id": "ZNM-LLYuu1dj",
      "metadata": {
        "id": "ZNM-LLYuu1dj"
      },
      "outputs": [
        {
          "name": "stderr",
          "output_type": "stream",
          "text": [
            "C:\\Users\\79779\\AppData\\Local\\Temp\\ipykernel_12204\\3270465796.py:2: UserWarning:\n",
            "\n",
            "pandas only supports SQLAlchemy connectable (engine/connection) or database string URI or sqlite3 DBAPI2 connection. Other DBAPI2 objects are not tested. Please consider using SQLAlchemy.\n",
            "\n"
          ]
        },
        {
          "data": {
            "text/plain": [
              "51"
            ]
          },
          "execution_count": 89,
          "metadata": {},
          "output_type": "execute_result"
        }
      ],
      "source": [
        "# результат запроса\n",
        "junior_count = pd.read_sql_query(query_6_2, connection)\n",
        "junior_count['count'][0]"
      ]
    },
    {
      "attachments": {},
      "cell_type": "markdown",
      "id": "eedceb80-c5ca-480e-b27a-278dfb8b4438",
      "metadata": {
        "id": "eedceb80-c5ca-480e-b27a-278dfb8b4438"
      },
      "source": [
        "3. Сколько есть вакансий для DS, в которых в качестве ключевого навыка указан SQL или postgres?\n",
        "\n",
        "**Критерии для отнесения вакансии к DS указаны в предыдущем задании.*"
      ]
    },
    {
      "cell_type": "code",
      "execution_count": 90,
      "id": "69621713-0cc5-4f1b-a1d7-bb144fa6148c",
      "metadata": {
        "id": "69621713-0cc5-4f1b-a1d7-bb144fa6148c"
      },
      "outputs": [],
      "source": [
        "# текст запроса\n",
        "query_6_3 = f'''select\n",
        "                count(v.name)\n",
        "                from public.vacancies v\n",
        "                where (v.name ilike '%data scientist%'\n",
        "                or v.name ilike '%data science%'\n",
        "                or v.name ilike '%исследователь данных%'\n",
        "                or (v.name like '%ML%'\n",
        "                and v.name not ilike '%HTML%')\n",
        "                or v.name ilike '%machine learning%'\n",
        "                or v.name ilike '%машинн%обучен%')\n",
        "                and (v.key_skills ilike '%SQL%'\n",
        "                or v.key_skills ilike '%postgres%')\n",
        "'''"
      ]
    },
    {
      "cell_type": "code",
      "execution_count": 91,
      "id": "alA8WEAAvGdf",
      "metadata": {
        "id": "alA8WEAAvGdf"
      },
      "outputs": [
        {
          "name": "stderr",
          "output_type": "stream",
          "text": [
            "C:\\Users\\79779\\AppData\\Local\\Temp\\ipykernel_12204\\404897991.py:2: UserWarning:\n",
            "\n",
            "pandas only supports SQLAlchemy connectable (engine/connection) or database string URI or sqlite3 DBAPI2 connection. Other DBAPI2 objects are not tested. Please consider using SQLAlchemy.\n",
            "\n"
          ]
        },
        {
          "data": {
            "text/plain": [
              "201"
            ]
          },
          "execution_count": 91,
          "metadata": {},
          "output_type": "execute_result"
        }
      ],
      "source": [
        "# результат запроса\n",
        "junior_count_sql = pd.read_sql_query(query_6_3, connection)\n",
        "junior_count_sql['count'][0]"
      ]
    },
    {
      "attachments": {},
      "cell_type": "markdown",
      "id": "1be1e9c6-37cf-4a5f-bfeb-04cab799dc80",
      "metadata": {
        "id": "1be1e9c6-37cf-4a5f-bfeb-04cab799dc80"
      },
      "source": [
        "4. Проверьте, насколько популярен Python в требованиях работодателей к DS.Для этого вычислите количество вакансий, в которых в качестве ключевого навыка указан Python.\n",
        "\n",
        "** Это можно сделать помощью запроса, аналогичного предыдущему.*"
      ]
    },
    {
      "cell_type": "code",
      "execution_count": 92,
      "id": "0036a355-9ccf-4564-8b01-73d8194297e7",
      "metadata": {
        "id": "0036a355-9ccf-4564-8b01-73d8194297e7"
      },
      "outputs": [],
      "source": [
        "# текст запроса\n",
        "query_6_4 = f'''select\n",
        "                count(v.name)\n",
        "                from public.vacancies v\n",
        "                where (v.name ilike '%data scientist%'\n",
        "                or v.name ilike '%data science%'\n",
        "                or v.name ilike '%исследователь данных%'\n",
        "                or (v.name like '%ML%'\n",
        "                and v.name not ilike '%HTML%')\n",
        "                or v.name ilike '%machine learning%'\n",
        "                or v.name ilike '%машинн%обучен%')\n",
        "                and (v.key_skills ilike '%python%')\n",
        "'''"
      ]
    },
    {
      "cell_type": "code",
      "execution_count": 93,
      "id": "1i-5WyucvQ6v",
      "metadata": {
        "id": "1i-5WyucvQ6v"
      },
      "outputs": [
        {
          "name": "stderr",
          "output_type": "stream",
          "text": [
            "C:\\Users\\79779\\AppData\\Local\\Temp\\ipykernel_12204\\2199315356.py:2: UserWarning:\n",
            "\n",
            "pandas only supports SQLAlchemy connectable (engine/connection) or database string URI or sqlite3 DBAPI2 connection. Other DBAPI2 objects are not tested. Please consider using SQLAlchemy.\n",
            "\n"
          ]
        },
        {
          "data": {
            "text/plain": [
              "351"
            ]
          },
          "execution_count": 93,
          "metadata": {},
          "output_type": "execute_result"
        }
      ],
      "source": [
        "# результат запроса\n",
        "junior_count_python = pd.read_sql_query(query_6_4, connection)\n",
        "junior_count_python['count'][0]"
      ]
    },
    {
      "attachments": {},
      "cell_type": "markdown",
      "id": "ec3c8db7-fa21-4a41-a994-1af63742a642",
      "metadata": {
        "id": "ec3c8db7-fa21-4a41-a994-1af63742a642"
      },
      "source": [
        "5. Сколько ключевых навыков в среднем указывают в вакансиях для DS?\n",
        "Ответ округлите до двух знаков после точки-разделителя."
      ]
    },
    {
      "cell_type": "code",
      "execution_count": 94,
      "id": "949132bc-d5b6-4611-8218-0b9a504d74f4",
      "metadata": {
        "id": "949132bc-d5b6-4611-8218-0b9a504d74f4"
      },
      "outputs": [],
      "source": [
        "# текст запроса\n",
        "query_6_5 = f'''select\n",
        "                avg(length(v.key_skills) - length(replace(v.key_skills, CHR(9), '')) + 1) average\n",
        "                from public.vacancies v\n",
        "                where (v.name ilike '%data scientist%'\n",
        "                or v.name ilike '%data science%'\n",
        "                or v.name ilike '%исследователь данных%'\n",
        "                or (v.name like '%ML%'\n",
        "                and v.name not ilike '%HTML%')\n",
        "                or v.name ilike '%machine learning%'\n",
        "                or v.name ilike '%машинн%обучен%')\n",
        "                and (v.key_skills is not null)\n",
        "'''"
      ]
    },
    {
      "cell_type": "code",
      "execution_count": 95,
      "id": "a3V24Tvmviqk",
      "metadata": {
        "id": "a3V24Tvmviqk"
      },
      "outputs": [
        {
          "name": "stderr",
          "output_type": "stream",
          "text": [
            "C:\\Users\\79779\\AppData\\Local\\Temp\\ipykernel_12204\\829556572.py:2: UserWarning:\n",
            "\n",
            "pandas only supports SQLAlchemy connectable (engine/connection) or database string URI or sqlite3 DBAPI2 connection. Other DBAPI2 objects are not tested. Please consider using SQLAlchemy.\n",
            "\n"
          ]
        },
        {
          "data": {
            "text/plain": [
              "6.41"
            ]
          },
          "metadata": {},
          "output_type": "display_data"
        }
      ],
      "source": [
        "# результат запроса\n",
        "skill_avg = pd.read_sql_query(query_6_5, connection)\n",
        "display(round(skill_avg['average'][0], 2))"
      ]
    },
    {
      "attachments": {},
      "cell_type": "markdown",
      "id": "1041c17a-ca8f-4543-a0ca-32778914fb00",
      "metadata": {
        "id": "1041c17a-ca8f-4543-a0ca-32778914fb00"
      },
      "source": [
        "6. Напишите запрос, позволяющий вычислить, какую зарплату для DS в **среднем** указывают для каждого типа требуемого опыта (уникальное значение из поля *experience*). \n",
        "\n",
        "При решении задачи примите во внимание следующее:\n",
        "1. Рассматриваем только вакансии, у которых заполнено хотя бы одно из двух полей с зарплатой.\n",
        "2. Если заполнены оба поля с зарплатой, то считаем зарплату по каждой вакансии как сумму двух полей, делённую на 2. Если заполнено только одно из полей, то его и считаем зарплатой по вакансии.\n",
        "3. Если в расчётах участвует null, в результате он тоже даст null (посмотрите, что возвращает запрос select 1 + null). Чтобы избежать этой ситуацию, мы воспользуемся функцией [coalesce](https://postgrespro.ru/docs/postgresql/9.5/functions-conditional#functions-coalesce-nvl-ifnull), которая заменит null на значение, которое мы передадим. Например, посмотрите, что возвращает запрос `select 1 + coalesce(null, 0)`\n",
        "\n",
        "Выясните, на какую зарплату в среднем может рассчитывать дата-сайентист с опытом работы от 3 до 6 лет. Результат округлите до целого числа. "
      ]
    },
    {
      "cell_type": "code",
      "execution_count": 96,
      "id": "6a743d39-5204-48d3-8271-b9f88e68d40e",
      "metadata": {
        "id": "6a743d39-5204-48d3-8271-b9f88e68d40e"
      },
      "outputs": [],
      "source": [
        "# текст запроса\n",
        "query_6_6 = f'''select\n",
        "                distinct v.experience,\n",
        "                round(avg(coalesce((v.salary_to + v.salary_from)/2, v.salary_from, v.salary_to)))\n",
        "                from public.vacancies v\n",
        "                where v.name ilike '%data scientist%'\n",
        "                or v.name ilike '%data science%'\n",
        "                or v.name ilike '%исследователь данных%'\n",
        "                or (v.name like '%ML%'\n",
        "                and v.name not ilike '%HTML%')\n",
        "                or v.name ilike '%machine learning%'\n",
        "                or v.name ilike '%машинн%обучен%'\n",
        "                group by 1\n",
        "'''"
      ]
    },
    {
      "cell_type": "code",
      "execution_count": 97,
      "id": "aRIJ0mZEwU1_",
      "metadata": {
        "id": "aRIJ0mZEwU1_"
      },
      "outputs": [
        {
          "name": "stderr",
          "output_type": "stream",
          "text": [
            "C:\\Users\\79779\\AppData\\Local\\Temp\\ipykernel_12204\\1734171801.py:2: UserWarning:\n",
            "\n",
            "pandas only supports SQLAlchemy connectable (engine/connection) or database string URI or sqlite3 DBAPI2 connection. Other DBAPI2 objects are not tested. Please consider using SQLAlchemy.\n",
            "\n"
          ]
        },
        {
          "data": {
            "text/html": [
              "<div>\n",
              "<style scoped>\n",
              "    .dataframe tbody tr th:only-of-type {\n",
              "        vertical-align: middle;\n",
              "    }\n",
              "\n",
              "    .dataframe tbody tr th {\n",
              "        vertical-align: top;\n",
              "    }\n",
              "\n",
              "    .dataframe thead th {\n",
              "        text-align: right;\n",
              "    }\n",
              "</style>\n",
              "<table border=\"1\" class=\"dataframe\">\n",
              "  <thead>\n",
              "    <tr style=\"text-align: right;\">\n",
              "      <th></th>\n",
              "      <th>experience</th>\n",
              "      <th>round</th>\n",
              "    </tr>\n",
              "  </thead>\n",
              "  <tbody>\n",
              "    <tr>\n",
              "      <th>0</th>\n",
              "      <td>Более 6 лет</td>\n",
              "      <td>NaN</td>\n",
              "    </tr>\n",
              "    <tr>\n",
              "      <th>1</th>\n",
              "      <td>Нет опыта</td>\n",
              "      <td>74643.0</td>\n",
              "    </tr>\n",
              "    <tr>\n",
              "      <th>2</th>\n",
              "      <td>От 1 года до 3 лет</td>\n",
              "      <td>139675.0</td>\n",
              "    </tr>\n",
              "    <tr>\n",
              "      <th>3</th>\n",
              "      <td>От 3 до 6 лет</td>\n",
              "      <td>243115.0</td>\n",
              "    </tr>\n",
              "  </tbody>\n",
              "</table>\n",
              "</div>"
            ],
            "text/plain": [
              "           experience     round\n",
              "0         Более 6 лет       NaN\n",
              "1           Нет опыта   74643.0\n",
              "2  От 1 года до 3 лет  139675.0\n",
              "3       От 3 до 6 лет  243115.0"
            ]
          },
          "execution_count": 97,
          "metadata": {},
          "output_type": "execute_result"
        }
      ],
      "source": [
        "# результат запроса\n",
        "salary_avg = pd.read_sql_query(query_6_6, connection)\n",
        "salary_avg"
      ]
    },
    {
      "attachments": {},
      "cell_type": "markdown",
      "id": "6a7892b4-4113-4746-adce-18aa2844f18e",
      "metadata": {
        "id": "6a7892b4-4113-4746-adce-18aa2844f18e"
      },
      "source": [
        "***"
      ]
    },
    {
      "cell_type": "code",
      "execution_count": 98,
      "id": "UjLWUptVwY1o",
      "metadata": {
        "id": "UjLWUptVwY1o"
      },
      "outputs": [
        {
          "name": "stderr",
          "output_type": "stream",
          "text": [
            "C:\\Users\\79779\\AppData\\Local\\Temp\\ipykernel_12204\\331676555.py:15: UserWarning:\n",
            "\n",
            "pandas only supports SQLAlchemy connectable (engine/connection) or database string URI or sqlite3 DBAPI2 connection. Other DBAPI2 objects are not tested. Please consider using SQLAlchemy.\n",
            "\n"
          ]
        },
        {
          "data": {
            "text/plain": [
              "480"
            ]
          },
          "metadata": {},
          "output_type": "display_data"
        },
        {
          "data": {
            "text/plain": [
              "1.0"
            ]
          },
          "metadata": {},
          "output_type": "display_data"
        },
        {
          "data": {
            "text/plain": [
              "10.6"
            ]
          },
          "metadata": {},
          "output_type": "display_data"
        },
        {
          "data": {
            "text/plain": [
              "34.3"
            ]
          },
          "metadata": {},
          "output_type": "display_data"
        },
        {
          "data": {
            "text/plain": [
              "73.1"
            ]
          },
          "metadata": {},
          "output_type": "display_data"
        },
        {
          "data": {
            "text/plain": [
              "41.9"
            ]
          },
          "metadata": {},
          "output_type": "display_data"
        }
      ],
      "source": [
        "# выводы по предметному анализу\n",
        "#1\n",
        "query_6 = f'''select\n",
        "                count(v.id)\n",
        "                from public.vacancies v\n",
        "                where (v.name ilike '%data scientist%'\n",
        "                or v.name ilike '%data science%'\n",
        "                or v.name ilike '%исследователь данных%'\n",
        "                or (v.name like '%ML%'\n",
        "                and v.name not ilike '%HTML%')\n",
        "                or v.name ilike '%machine learning%'\n",
        "                or v.name ilike '%машинн%обучен%')\n",
        "'''\n",
        "\n",
        "ds_count = pd.read_sql_query(query_6, connection)\n",
        "display(ds_count['count'][0])\n",
        "\n",
        "display(round(ds_count['count'][0]/vacancies_count['count'][0] * 100, 1))\n",
        "display(round(junior_count['count'][0]/ds_count['count'][0] * 100, 1))\n",
        "display(round(1751/junior_count['count'][0], 1))\n",
        "display(round(junior_count_python['count'][0]/ds_count['count'][0] * 100, 1))\n",
        "display(round(junior_count_sql['count'][0]/ds_count['count'][0] * 100, 1))"
      ]
    },
    {
      "attachments": {},
      "cell_type": "markdown",
      "id": "fab21926",
      "metadata": {},
      "source": [
        "## Выводы\n",
        "---\n",
        "1. Из предложенных расчетов видно, что количество вакансий, имеющтх отношение к данным 480, что состовляет 1% от общего кол-ва вакансий (49197). Из ds-вакансий всего 10,6% составляют вакансии где работодатель ищет начинающих специалистов при этом по информации с сайта skillfactory.ru на курсе DST проходят обучение 1751 студент. Эти грубые подсчеты приводят к весьма нерадостным выводам об огромной конкуренции ~34 человека на место. <br>\n",
        "**Подсчеты грубые и поверхостные*\n",
        "---\n",
        "2. Также можно сделать вывод, что вакансии в этой сфере требуют опыта работы или специализированных навыков. В данной области есть достаточно высокий спрос на профессионалов с опытом работы, и начинающим специалистам может быть сложнее найти подходящие вакансии.\n",
        "---\n",
        "3. В среднем начинающий кандидат должен иметь 6 навыков из которых основные это python(73,1% ds-вакансий) и SQL (41,9% ds-вакансий). Таким образом ds-специалист скорее всего не найдет работу без основных навыков в python и SQL\n",
        "---\n",
        "4. Те соискатели, которые смогут найти работу в данной сфере за 1 - 3 года смогут увеличить свой доход практически вдвое с 74643 до 139675. Другими словами год работы над реальными проектами в компании, для новичка может увеличить стоимость в среднем в два раза."
      ]
    },
    {
      "attachments": {},
      "cell_type": "markdown",
      "id": "c0ED6fh7wiBT",
      "metadata": {
        "id": "c0ED6fh7wiBT"
      },
      "source": [
        "# Общий вывод по проекту"
      ]
    },
    {
      "cell_type": "code",
      "execution_count": 99,
      "id": "h9B3BL-wwj18",
      "metadata": {
        "id": "h9B3BL-wwj18"
      },
      "outputs": [
        {
          "name": "stderr",
          "output_type": "stream",
          "text": [
            "C:\\Users\\79779\\AppData\\Local\\Temp\\ipykernel_12204\\3492308358.py:50: UserWarning:\n",
            "\n",
            "pandas only supports SQLAlchemy connectable (engine/connection) or database string URI or sqlite3 DBAPI2 connection. Other DBAPI2 objects are not tested. Please consider using SQLAlchemy.\n",
            "\n"
          ]
        },
        {
          "data": {
            "image/png": "[encoded data removed]"
          },
          "metadata": {},
          "output_type": "display_data"
        },
        {
          "name": "stderr",
          "output_type": "stream",
          "text": [
            "C:\\Users\\79779\\AppData\\Local\\Temp\\ipykernel_12204\\3492308358.py:83: UserWarning:\n",
            "\n",
            "pandas only supports SQLAlchemy connectable (engine/connection) or database string URI or sqlite3 DBAPI2 connection. Other DBAPI2 objects are not tested. Please consider using SQLAlchemy.\n",
            "\n"
          ]
        },
        {
          "data": {
            "text/html": [
              "<div>\n",
              "<style scoped>\n",
              "    .dataframe tbody tr th:only-of-type {\n",
              "        vertical-align: middle;\n",
              "    }\n",
              "\n",
              "    .dataframe tbody tr th {\n",
              "        vertical-align: top;\n",
              "    }\n",
              "\n",
              "    .dataframe thead th {\n",
              "        text-align: right;\n",
              "    }\n",
              "</style>\n",
              "<table border=\"1\" class=\"dataframe\">\n",
              "  <thead>\n",
              "    <tr style=\"text-align: right;\">\n",
              "      <th></th>\n",
              "      <th>name</th>\n",
              "      <th>count</th>\n",
              "    </tr>\n",
              "  </thead>\n",
              "  <tbody>\n",
              "    <tr>\n",
              "      <th>0</th>\n",
              "      <td>Банк ВТБ (ПАО)</td>\n",
              "      <td>10</td>\n",
              "    </tr>\n",
              "    <tr>\n",
              "      <th>1</th>\n",
              "      <td>The Skolkovo Institute of Science and Technology</td>\n",
              "      <td>3</td>\n",
              "    </tr>\n",
              "    <tr>\n",
              "      <th>2</th>\n",
              "      <td>Comexp</td>\n",
              "      <td>3</td>\n",
              "    </tr>\n",
              "    <tr>\n",
              "      <th>3</th>\n",
              "      <td>Диплей</td>\n",
              "      <td>2</td>\n",
              "    </tr>\n",
              "    <tr>\n",
              "      <th>4</th>\n",
              "      <td>SteadyControl</td>\n",
              "      <td>2</td>\n",
              "    </tr>\n",
              "    <tr>\n",
              "      <th>5</th>\n",
              "      <td>СтарЛайн, Научно-производственное объединение</td>\n",
              "      <td>2</td>\n",
              "    </tr>\n",
              "  </tbody>\n",
              "</table>\n",
              "</div>"
            ],
            "text/plain": [
              "                                               name  count\n",
              "0                                    Банк ВТБ (ПАО)     10\n",
              "1  The Skolkovo Institute of Science and Technology      3\n",
              "2                                            Comexp      3\n",
              "3                                            Диплей      2\n",
              "4                                     SteadyControl      2\n",
              "5     СтарЛайн, Научно-производственное объединение      2"
            ]
          },
          "metadata": {},
          "output_type": "display_data"
        },
        {
          "name": "stderr",
          "output_type": "stream",
          "text": [
            "C:\\Users\\79779\\AppData\\Local\\Temp\\ipykernel_12204\\3492308358.py:102: UserWarning:\n",
            "\n",
            "pandas only supports SQLAlchemy connectable (engine/connection) or database string URI or sqlite3 DBAPI2 connection. Other DBAPI2 objects are not tested. Please consider using SQLAlchemy.\n",
            "\n"
          ]
        },
        {
          "data": {
            "image/png": "[encoded data removed]"
          },
          "metadata": {},
          "output_type": "display_data"
        },
        {
          "name": "stderr",
          "output_type": "stream",
          "text": [
            "C:\\Users\\79779\\AppData\\Local\\Temp\\ipykernel_12204\\3492308358.py:160: UserWarning:\n",
            "\n",
            "pandas only supports SQLAlchemy connectable (engine/connection) or database string URI or sqlite3 DBAPI2 connection. Other DBAPI2 objects are not tested. Please consider using SQLAlchemy.\n",
            "\n"
          ]
        },
        {
          "data": {
            "text/html": [
              "<div>\n",
              "<style scoped>\n",
              "    .dataframe tbody tr th:only-of-type {\n",
              "        vertical-align: middle;\n",
              "    }\n",
              "\n",
              "    .dataframe tbody tr th {\n",
              "        vertical-align: top;\n",
              "    }\n",
              "\n",
              "    .dataframe thead th {\n",
              "        text-align: right;\n",
              "    }\n",
              "</style>\n",
              "<table border=\"1\" class=\"dataframe\">\n",
              "  <thead>\n",
              "    <tr style=\"text-align: right;\">\n",
              "      <th></th>\n",
              "      <th>experiens</th>\n",
              "      <th>skills_avg</th>\n",
              "    </tr>\n",
              "  </thead>\n",
              "  <tbody>\n",
              "    <tr>\n",
              "      <th>0</th>\n",
              "      <td>Нет опыта</td>\n",
              "      <td>7.4</td>\n",
              "    </tr>\n",
              "    <tr>\n",
              "      <th>1</th>\n",
              "      <td>От 1 года до 3 лет</td>\n",
              "      <td>6.7</td>\n",
              "    </tr>\n",
              "    <tr>\n",
              "      <th>2</th>\n",
              "      <td>От 3 до 6 лет</td>\n",
              "      <td>6.0</td>\n",
              "    </tr>\n",
              "    <tr>\n",
              "      <th>3</th>\n",
              "      <td>Более 6 лет</td>\n",
              "      <td>5.9</td>\n",
              "    </tr>\n",
              "  </tbody>\n",
              "</table>\n",
              "</div>"
            ],
            "text/plain": [
              "            experiens  skills_avg\n",
              "0           Нет опыта         7.4\n",
              "1  От 1 года до 3 лет         6.7\n",
              "2       От 3 до 6 лет         6.0\n",
              "3         Более 6 лет         5.9"
            ]
          },
          "metadata": {},
          "output_type": "display_data"
        }
      ],
      "source": [
        "# подведем итог исследования, обобщите выводы\n",
        "# здесь можно (это будет плюсом) провести дополнительные исследования данных, сделать прогнозы, продумать варианты продолжения исследования\n",
        "\n",
        "# 1.1 Анализируем долю вакансий Яндекс в своей индустрии\n",
        "# SQL запрос для получения инфы о кол-ве вакансий Яндекс, топ 5 компаний и остальных работодателей\n",
        "conclusion_1_1 = f'''with top_companies as\n",
        "                (select\n",
        "                e.name company,\n",
        "                count(v.id) count\n",
        "                from public.vacancies v\n",
        "                join public.employers e on v.employer_id = e.id\n",
        "                join public.employers_industries ei on ei.employer_id = e.id\n",
        "                join public.industries i on i.id = ei.industry_id\n",
        "                where i.id::float = 7.541 and e.name not like 'Яндекс'\n",
        "                group by e.name\n",
        "                order by count(v.id) desc\n",
        "                limit 5)\n",
        "                \n",
        "                select * from(\n",
        "                select\n",
        "                    company,\n",
        "                    count\n",
        "                from top_companies\n",
        "                \n",
        "                union all\n",
        "                \n",
        "                select\n",
        "                'Yandex' company,\n",
        "                count(v.id)\n",
        "                from public.vacancies v\n",
        "                join public.employers e on v.employer_id = e.id\n",
        "                join public.employers_industries ei on ei.employer_id = e.id\n",
        "                join public.industries i on i.id = ei.industry_id\n",
        "                where i.id::float = 7.541 and e.name like 'Яндекс'\n",
        "                \n",
        "                union all\n",
        "                \n",
        "                select\n",
        "                'Other',\n",
        "                count(v.id)\n",
        "                from public.vacancies v\n",
        "                join public.employers e on v.employer_id = e.id\n",
        "                join public.employers_industries ei on ei.employer_id = e.id\n",
        "                join public.industries i on i.id = ei.industry_id\n",
        "                where i.id::float = 7.541 and e.name not like 'Яндекс'\n",
        "                and e.name not in (select company from top_companies)\n",
        "                ) as result\n",
        "                order by 2 desc\n",
        "'''\n",
        "top_industry = pd.read_sql_query(conclusion_1_1, connection)\n",
        "\n",
        "fig_4 = px.pie(\n",
        "    data_frame=top_industry,\n",
        "    values='count',\n",
        "    names='company',\n",
        "    title='5. Доля Яндекса в индустрии Интернет компаний'\n",
        ")\n",
        "fig_4.show('png')\n",
        "fig_4.write_image('img/4_Доля Яндекса в индустрии Интернет компаний.png')\n",
        "\n",
        "# 1.2 изучаем компании с большим кол-вом вакансий для начинающих DS\n",
        "# SQL запрос с группировкой по компаниям\n",
        "conclusion_1_2 = f'''select\n",
        "                e.name,\n",
        "                count(v.id)\n",
        "                from public.vacancies v\n",
        "                join public.employers e on v.employer_id = e.id\n",
        "                where (v.name ilike '%data scientist%'\n",
        "                or v.name ilike '%data science%'\n",
        "                or v.name ilike '%исследователь данных%'\n",
        "                or (v.name like '%ML%' \n",
        "                and v.name not ilike '%HTML%')\n",
        "                or v.name ilike '%machine learning%'\n",
        "                or v.name ilike '%машинн%обучен%')\n",
        "                and (v.name ilike '%junior%'\n",
        "                or v.experience ilike '%нет опыта%'\n",
        "                or v.employment ilike '%стажировка%')\n",
        "                group by 1\n",
        "                order by 2 desc\n",
        "                limit 6\n",
        "'''\n",
        "\n",
        "jun = pd.read_sql_query(conclusion_1_2, connection)\n",
        "display(jun)\n",
        "\n",
        "# 2.1 Изучаем топ 10 необходимых скиллов для DS\n",
        "\n",
        "# SQL запрос для получения списка скиллов по всем вакансиям для DS\n",
        "# сразу в запросе разделяем скиллы символом \"/\"\n",
        "conclusion_1_3 = f'''select\n",
        "                replace(v.key_skills, CHR(9), '/') as key_skills\n",
        "                from public.vacancies v\n",
        "                where (v.name ilike '%data scientist%'\n",
        "                or v.name ilike '%data science%'\n",
        "                or v.name ilike '%исследователь данных%'\n",
        "                or (v.name like '%ML%'\n",
        "                and v.name not ilike '%HTML%')\n",
        "                or v.name ilike '%machine learning%'\n",
        "                or v.name ilike '%машинн%обучен%')\n",
        "                and (v.key_skills is not null)\n",
        "'''\n",
        "skills = pd.read_sql_query(conclusion_1_3, connection)\n",
        "\n",
        "# функция для подсчета топ 10 навыков для DS\n",
        "def create_df(data, column):\n",
        "    # делаем список из строки\n",
        "    data[column] = data[column].apply(lambda x: x.split('/')) \n",
        "    \n",
        "    top ={}\n",
        "    for row in data[column]:\n",
        "        for word in row:\n",
        "            if word not in top:\n",
        "                top[word] = 1\n",
        "            else:\n",
        "                top[word] += 1\n",
        "    # получаем топ 10 частовстречающихся скиллов\n",
        "    sorted_top = sorted(top, key=top.get, reverse=True)[:10]\n",
        "    \n",
        "    # переводим в удобную форму для создания ДФ\n",
        "    list_for_df = [] # список, содержащий списки из скилла и кол-ва его упоминаний в вакансиях\n",
        "    for key in sorted_top:\n",
        "        list_for_df.append([key, top[key]])\n",
        "\n",
        "    skills_df = pd.DataFrame(\n",
        "        data = list_for_df,\n",
        "        columns = ['skills', 'count']\n",
        "    )\n",
        "    return skills_df\n",
        "\n",
        "top_skills = create_df(skills, 'key_skills')\n",
        "\n",
        "fig_5 = px.bar(\n",
        "    data_frame=top_skills,\n",
        "    x='skills',\n",
        "    y='count',\n",
        "    color='skills',\n",
        "    text='count',\n",
        "    title='1. Топ 10 ключевых скилов для DS-вакансий'\n",
        ")\n",
        "fig_5.show('png')\n",
        "fig_5.write_image('img/5_Топ 10 ключевых скилов для DS-вакансий.png')\n",
        "\n",
        "# 2.2 Изучаем среднее значение кол-ва навыков в разрезе опыта\n",
        "# SQL апрос для получения среднего значения скилов сгруппированных по опыту\n",
        "conclusion_1_4 = f'''select\n",
        "                v.experience Experiens,\n",
        "                round(avg(length(v.key_skills) - length(replace(v.key_skills, CHR(9), '')) + 1), 1) skills_avg\n",
        "                from public.vacancies v\n",
        "                where (v.name ilike '%data scientist%'\n",
        "                or v.name ilike '%data science%'\n",
        "                or v.name ilike '%исследователь данных%'\n",
        "                or (v.name like '%ML%'\n",
        "                and v.name not ilike '%HTML%')\n",
        "                or v.name ilike '%machine learning%'\n",
        "                or v.name ilike '%машинн%обучен%')\n",
        "                and (v.key_skills is not null)\n",
        "                group by 1\n",
        "                order by 2 desc\n",
        "'''\n",
        "exp_skills = pd.read_sql_query(conclusion_1_4, connection)\n",
        "display(exp_skills)\n",
        "\n"
      ]
    },
    {
      "attachments": {},
      "cell_type": "markdown",
      "id": "745bd926",
      "metadata": {},
      "source": [
        "## Общие выводы\n",
        "---\n",
        "1. Большие рынки труда (Москва, Санкт-Петербург и т.д.) представляют большее кол-во вакансий, что закономерно в виду того, что это самые развивающиеся города.\n",
        "---\n",
        "2. Многие работодатели не до конца заполняют данные по вакансии по разным причинам, что скорее всего сказывается на эффективности поиска кандидатов.\n",
        "---\n",
        "3. Большой процент вакансий связан с информационными технологиями как в том числе и с данными. Было бы интересно посмотреть увеличение кол-ва подобных вакансий за несколько лет, для подтверждения тезиса о росте IT сферы. Кроме того подобное исследование помогло бы оценить направления роста для начинающих специалистов, другими словами какие навыки становятся более востребованы.\n",
        "---\n",
        "4. Заметна огромная доля вакансий Яндекс (30,1% в сфере интернет компаний) и покрытие ими большого кол-ва регионов. Думаю все это связанно с развитием компании в нескольких отраслях, которые представленны в разных регионах. Скорее всего тенденция роста кол-ва вакансий компании будет пропорциональна росту и развитию самой компании. Кроме Яндекс в топ вошли не менее крупные и развивающиеся компании Тинькофф, VK, Тинькофф, Центр Высоких Технологий, Playrix и Beeline. Однако, по кол-ву вакансий для новичков лидируют Банк ВТБ (ПАО), Comexp, The Skolkovo Institute of Science and Technology, SteadyControl, СтарЛайн, Научно-производственное объединение, Диплей.\n",
        "--- \n",
        "5. В топ навыков для DS кроме python и SQL входят  ML, GIT, Математическая статистика, pandas, Data Analysis и ангийский язык. Таким образом успешным решенем для начинащего DS-специалиста будет улучшать и практиковаться именно в этих навыках.\n",
        "---\n",
        "6. Кроме того можно отметить тенденцию уменьшения кол-ва скиллов с увеличением опыта, что скорее связванно с глубокой специализацией более опытных кандидатов. Но можно предположить и другие причины. К примеру:\n",
        "    * в данной сфере опыт играет более значимую роль чем набор навыков\n",
        "    * с завышенными требованиями к менее опытным работникам и не желание проводить обучение на раочих местах."
      ]
    }
  ],
  "metadata": {
    "colab": {
      "collapsed_sections": [
        "8d62a9f3-f64e-4fe7-bdac-c4dffa16155e"
      ],
      "provenance": []
    },
    "kernelspec": {
      "display_name": "Python 3 (ipykernel)",
      "language": "python",
      "name": "python3"
    },
    "language_info": {
      "codemirror_mode": {
        "name": "ipython",
        "version": 3
      },
      "file_extension": ".py",
      "mimetype": "text/x-python",
      "name": "python",
      "nbconvert_exporter": "python",
      "pygments_lexer": "ipython3",
      "version": "3.10.10"
    }
  },
  "nbformat": 4,
  "nbformat_minor": 5
}
